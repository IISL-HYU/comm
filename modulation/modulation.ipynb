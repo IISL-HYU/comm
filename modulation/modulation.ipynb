{
 "cells": [
  {
   "cell_type": "code",
   "execution_count": 1,
   "metadata": {},
   "outputs": [],
   "source": [
    "import numpy as np \n",
    "import matplotlib.pyplot as plt \n",
    "import random \n"
   ]
  },
  {
   "cell_type": "code",
   "execution_count": 121,
   "metadata": {},
   "outputs": [],
   "source": [
    "class Modulator():\n",
    "    def __init__(self, M):\n",
    "        self.M = M\n",
    "        self.k = int(np.log2(M)) \n",
    "\n",
    "    def dec2bin(self, x: np.ndarray):\n",
    "        bins = []\n",
    "        for dec in x:\n",
    "            bcw = str(bin(dec)[2:]).zfill(k)\n",
    "            bins.append(bcw)\n",
    "        return np.array(bins)\n",
    "\n",
    "    def bin2dec(self, bins: np.ndarray):\n",
    "        decs = np.zeros_like(bins, dtype=np.int32)\n",
    "        for i, b in enumerate(bins):\n",
    "            decs[i] = int(b, 2)\n",
    "        return decs\n",
    "\n",
    "\n",
    "class QAM(Modulator):\n",
    "    def __init__(self, M=16):\n",
    "        super().__init__(M)\n",
    "        self.axis_points = self._make_axis_point(M)\n",
    "        \n",
    "        # integer 0 ~ M-1\n",
    "        self.ip = np.arange(M)\n",
    "\n",
    "        # decimal to binary (array of string)\n",
    "        self.ipBin = self.dec2bin(self.ip)\n",
    "        self.symbols = self._make_symbols()\n",
    "\n",
    "        # Mapping dictionary for M-QAM modulation\n",
    "        self.mapping = dict(zip(self.ipBin, self.symbols))\n",
    "\n",
    "        # Demapping dictionary for M-QAM demodulation \n",
    "        self.demapping = {v: k for k, v in self.mapping.items()}\n",
    "\n",
    "    def __call__(self):\n",
    "        return self.mapping\n",
    " \n",
    "    def _make_symbols(self):\n",
    "        # dividing binary into \"b0 b1\" and \"b2 b3\"\n",
    "        ipBin_real = np.array([b[: self.k//2] for b in self.ipBin])\n",
    "        ipBin_imag = np.array([b[self.k//2 :] for b in self.ipBin])\n",
    "\n",
    "        # map \"b0b1\" and \"b2b3\" to axis_points \n",
    "        ipDec_real = self.bin2dec(ipBin_real)\n",
    "        ipDec_imag = self.bin2dec(ipBin_imag)\n",
    "\n",
    "        real_points = np.array([self.axis_points[i] for i in ipDec_real])\n",
    "        imag_points = np.array([self.axis_points[i] for i in ipDec_imag])\n",
    "\n",
    "        symbols= real_points + 1j * imag_points \n",
    "        return symbols\n",
    "    \n",
    "    def _make_axis_point(self, M):\n",
    "        con_min = -(2 * np.sqrt(M) / 2 - 1)\n",
    "        con_max = (2 * np.sqrt(M) / 2 - 1)\n",
    "        p_num = int(np.sqrt(M))\n",
    "        return np.linspace(con_min, con_max, p_num)\n"
   ]
  },
  {
   "cell_type": "code",
   "execution_count": 122,
   "metadata": {},
   "outputs": [
    {
     "data": {
      "text/plain": [
       "{'0000': (-3-3j),\n",
       " '0001': (-3-1j),\n",
       " '0010': (-3+1j),\n",
       " '0011': (-3+3j),\n",
       " '0100': (-1-3j),\n",
       " '0101': (-1-1j),\n",
       " '0110': (-1+1j),\n",
       " '0111': (-1+3j),\n",
       " '1000': (1-3j),\n",
       " '1001': (1-1j),\n",
       " '1010': (1+1j),\n",
       " '1011': (1+3j),\n",
       " '1100': (3-3j),\n",
       " '1101': (3-1j),\n",
       " '1110': (3+1j),\n",
       " '1111': (3+3j)}"
      ]
     },
     "execution_count": 122,
     "metadata": {},
     "output_type": "execute_result"
    }
   ],
   "source": [
    "modem = QAM(M=16)\n",
    "modem()"
   ]
  },
  {
   "cell_type": "code",
   "execution_count": 111,
   "metadata": {},
   "outputs": [],
   "source": [
    "def qam(M=16):\n",
    "    \n",
    "    # number of bits in each constellation\n",
    "    k = int(np.log2(M))\n",
    "\n",
    "    # making axis points \n",
    "    con_min = -(2 * np.sqrt(M) / 2 - 1)\n",
    "    con_max = 2 * np.sqrt(M) / 2 - 1\n",
    "    p_num = int(np.sqrt(M))\n",
    "    axis_points = np.linspace(con_min, con_max, p_num)\n",
    "    print(axis_points)\n",
    "    \n",
    "    # symbol mapping \n",
    "    ip = np.arange(M)\n",
    "\n",
    "    # decimal to binary\n",
    "    ipBin = dec2bin(ip)\n",
    "\n",
    "    # dividing binary into \"b0 b1\" and \"b2 b3\"\n",
    "    ipBin_real = np.array([b[: k//2] for b in ipBin])\n",
    "    ipBin_imag = np.array([b[k//2 :] for b in ipBin])\n",
    "\n",
    "    # map \"b0b1\" and \"b2b3\" to axis_points \n",
    "    ipDec_real = bin2dec(ipBin_real)\n",
    "    ipDec_imag = bin2dec(ipBin_imag)\n",
    "\n",
    "    real_points = np.array([axis_points[i] for i in ipDec_real])\n",
    "    imag_points = np.array([axis_points[i] for i in ipDec_imag])\n",
    "\n",
    "    symbols= real_points + 1j * imag_points \n",
    "    return symbols \n",
    "    \n",
    "\n",
    "    \n",
    "\n"
   ]
  },
  {
   "cell_type": "code",
   "execution_count": 112,
   "metadata": {},
   "outputs": [
    {
     "name": "stdout",
     "output_type": "stream",
     "text": [
      "[-3. -1.  1.  3.]\n",
      "[0 0 0 0 1 1 1 1 2 2 2 2 3 3 3 3]\n",
      "[-3. -3. -3. -3. -1. -1. -1. -1.  1.  1.  1.  1.  3.  3.  3.  3.]\n"
     ]
    },
    {
     "data": {
      "text/plain": [
       "array([-3.-3.j, -3.-1.j, -3.+1.j, -3.+3.j, -1.-3.j, -1.-1.j, -1.+1.j,\n",
       "       -1.+3.j,  1.-3.j,  1.-1.j,  1.+1.j,  1.+3.j,  3.-3.j,  3.-1.j,\n",
       "        3.+1.j,  3.+3.j])"
      ]
     },
     "execution_count": 112,
     "metadata": {},
     "output_type": "execute_result"
    }
   ],
   "source": [
    "qam()"
   ]
  },
  {
   "cell_type": "code",
   "execution_count": 99,
   "metadata": {},
   "outputs": [
    {
     "data": {
      "text/plain": [
       "4"
      ]
     },
     "execution_count": 99,
     "metadata": {},
     "output_type": "execute_result"
    }
   ],
   "source": [
    "M = 16  # number of constellation points \n",
    "k = int(np.log2(M))  # number of bits in each constellation \n",
    "k"
   ]
  },
  {
   "cell_type": "code",
   "execution_count": 13,
   "metadata": {},
   "outputs": [],
   "source": [
    "con_min = - ( 2 * np.sqrt(M) / 2 - 1)\n",
    "con_max = 2 * np.sqrt(M) / 2 - 1\n",
    "axis_num = int(np.sqrt(M))"
   ]
  },
  {
   "cell_type": "code",
   "execution_count": 14,
   "metadata": {},
   "outputs": [
    {
     "data": {
      "text/plain": [
       "(array([-3., -1.,  1.,  3.]), array([-3., -1.,  1.,  3.]))"
      ]
     },
     "execution_count": 14,
     "metadata": {},
     "output_type": "execute_result"
    }
   ],
   "source": [
    "re_point = np.linspace(con_min, con_max, axis_num)\n",
    "im_point = np.linspace(con_min, con_max, axis_num) \n",
    "\n",
    "re_point, im_point"
   ]
  },
  {
   "cell_type": "code",
   "execution_count": 16,
   "metadata": {},
   "outputs": [
    {
     "data": {
      "text/plain": [
       "array([ 0,  1,  2,  3,  4,  5,  6,  7,  8,  9, 10, 11, 12, 13, 14, 15])"
      ]
     },
     "execution_count": 16,
     "metadata": {},
     "output_type": "execute_result"
    }
   ],
   "source": [
    "ip = np.arange(16)\n",
    "ip"
   ]
  },
  {
   "cell_type": "code",
   "execution_count": 61,
   "metadata": {},
   "outputs": [],
   "source": [
    "def dec2bin(x: np.ndarray):\n",
    "    bins = []\n",
    "    for dec in x:\n",
    "        bcw = str(bin(dec)[2:]).zfill(4)\n",
    "        bins.append(bcw)\n",
    "    return np.array(bins)\n",
    "\n",
    "def bin2dec(bins: np.array):\n",
    "    decs = np.zeros_like(bins, dtype=np.int32)\n",
    "    for i, b in enumerate(bins):\n",
    "        decs[i] = int(b, 2)\n",
    "    return decs\n",
    "\n",
    "    \n",
    "\n"
   ]
  },
  {
   "cell_type": "code",
   "execution_count": 60,
   "metadata": {},
   "outputs": [
    {
     "data": {
      "text/plain": [
       "array([ 0,  1,  2,  3,  4,  5,  6,  7,  8,  9, 10, 11, 12, 13, 14, 15],\n",
       "      dtype=int32)"
      ]
     },
     "execution_count": 60,
     "metadata": {},
     "output_type": "execute_result"
    }
   ],
   "source": [
    "ipBin = dec2bin(ip)\n",
    "ipBin\n",
    "\n",
    "ipDec = bin2dec(ipBin)\n",
    "ipDec"
   ]
  },
  {
   "cell_type": "code",
   "execution_count": 67,
   "metadata": {},
   "outputs": [
    {
     "data": {
      "text/plain": [
       "array([-3., -3., -3., -3., -1., -1., -1., -1.,  1.,  1.,  1.,  1.,  3.,\n",
       "        3.,  3.,  3.])"
      ]
     },
     "execution_count": 67,
     "metadata": {},
     "output_type": "execute_result"
    }
   ],
   "source": [
    "ipBin\n",
    "ipBin_real = np.array([b[:2] for b in ipBin])\n",
    "ipDec_real = bin2dec(ipBin_real)\n",
    "point_real = np.array([re_point[i] for i in ipDec_real])\n",
    "point_real"
   ]
  },
  {
   "cell_type": "code",
   "execution_count": 69,
   "metadata": {},
   "outputs": [
    {
     "data": {
      "text/plain": [
       "array([-3., -1.,  1.,  3., -3., -1.,  1.,  3., -3., -1.,  1.,  3., -3.,\n",
       "       -1.,  1.,  3.])"
      ]
     },
     "execution_count": 69,
     "metadata": {},
     "output_type": "execute_result"
    }
   ],
   "source": [
    "ipBin\n",
    "ipBin_imag = np.array([b[2:] for b in ipBin])\n",
    "ipDec_imag = bin2dec(ipBin_imag)\n",
    "point_imag = np.array([im_point[i] for i in ipDec_imag])\n",
    "point_imag"
   ]
  },
  {
   "cell_type": "code",
   "execution_count": 70,
   "metadata": {},
   "outputs": [],
   "source": [
    "symbols = point_real + 1j * point_imag"
   ]
  },
  {
   "cell_type": "code",
   "execution_count": 71,
   "metadata": {},
   "outputs": [
    {
     "data": {
      "text/plain": [
       "array([-3.-3.j, -3.-1.j, -3.+1.j, -3.+3.j, -1.-3.j, -1.-1.j, -1.+1.j,\n",
       "       -1.+3.j,  1.-3.j,  1.-1.j,  1.+1.j,  1.+3.j,  3.-3.j,  3.-1.j,\n",
       "        3.+1.j,  3.+3.j])"
      ]
     },
     "execution_count": 71,
     "metadata": {},
     "output_type": "execute_result"
    }
   ],
   "source": [
    "symbols"
   ]
  },
  {
   "cell_type": "code",
   "execution_count": null,
   "metadata": {},
   "outputs": [],
   "source": [
    "ipBin\n",
    "ipBin_real = np.array([b[:2] for b in ipBin])\n",
    "ipDec_real = bin2dec(ipBin_real)\n",
    "point_real = np.array([re_point[i] for i in ipDec_real])\n",
    "ipBin_imag = np.array([b[2:] for b in ipBin])\n",
    "ipDec_imag = bin2dec(ipBin_imag)\n",
    "point_imag = np.array([im_point[i] for i in ipDec_imag])\n",
    "symbols = point_real + 1j * point_imag\n",
    "\n"
   ]
  },
  {
   "cell_type": "code",
   "execution_count": 102,
   "metadata": {},
   "outputs": [
    {
     "data": {
      "text/plain": [
       "2"
      ]
     },
     "execution_count": 102,
     "metadata": {},
     "output_type": "execute_result"
    }
   ],
   "source": [
    "k // 2\n"
   ]
  },
  {
   "cell_type": "code",
   "execution_count": 113,
   "metadata": {},
   "outputs": [
    {
     "data": {
      "text/plain": [
       "array(['0000', '0001', '0010', '0011', '0100', '0101', '0110', '0111',\n",
       "       '1000', '1001', '1010', '1011', '1100', '1101', '1110', '1111'],\n",
       "      dtype='<U4')"
      ]
     },
     "execution_count": 113,
     "metadata": {},
     "output_type": "execute_result"
    }
   ],
   "source": [
    "ipBin"
   ]
  },
  {
   "cell_type": "code",
   "execution_count": 114,
   "metadata": {},
   "outputs": [
    {
     "data": {
      "text/plain": [
       "array([-3.-3.j, -3.-1.j, -3.+1.j, -3.+3.j, -1.-3.j, -1.-1.j, -1.+1.j,\n",
       "       -1.+3.j,  1.-3.j,  1.-1.j,  1.+1.j,  1.+3.j,  3.-3.j,  3.-1.j,\n",
       "        3.+1.j,  3.+3.j])"
      ]
     },
     "execution_count": 114,
     "metadata": {},
     "output_type": "execute_result"
    }
   ],
   "source": [
    "symbols"
   ]
  },
  {
   "cell_type": "code",
   "execution_count": 115,
   "metadata": {},
   "outputs": [
    {
     "data": {
      "text/plain": [
       "{'0000': (-3-3j),\n",
       " '0001': (-3-1j),\n",
       " '0010': (-3+1j),\n",
       " '0011': (-3+3j),\n",
       " '0100': (-1-3j),\n",
       " '0101': (-1-1j),\n",
       " '0110': (-1+1j),\n",
       " '0111': (-1+3j),\n",
       " '1000': (1-3j),\n",
       " '1001': (1-1j),\n",
       " '1010': (1+1j),\n",
       " '1011': (1+3j),\n",
       " '1100': (3-3j),\n",
       " '1101': (3-1j),\n",
       " '1110': (3+1j),\n",
       " '1111': (3+3j)}"
      ]
     },
     "execution_count": 115,
     "metadata": {},
     "output_type": "execute_result"
    }
   ],
   "source": [
    "dict(zip(ipBin, symbols))"
   ]
  },
  {
   "cell_type": "code",
   "execution_count": null,
   "metadata": {},
   "outputs": [],
   "source": []
  }
 ],
 "metadata": {
  "kernelspec": {
   "display_name": "Python 3.8.12",
   "language": "python",
   "name": "python3"
  },
  "language_info": {
   "codemirror_mode": {
    "name": "ipython",
    "version": 3
   },
   "file_extension": ".py",
   "mimetype": "text/x-python",
   "name": "python",
   "nbconvert_exporter": "python",
   "pygments_lexer": "ipython3",
   "version": "3.8.12"
  },
  "orig_nbformat": 4,
  "vscode": {
   "interpreter": {
    "hash": "f14269bf3ad7aa2ae115b9ca9481e15e8eacecd83dc3347ac1efd388ad78cc6e"
   }
  }
 },
 "nbformat": 4,
 "nbformat_minor": 2
}
