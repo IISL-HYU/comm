{
 "cells": [
  {
   "cell_type": "code",
   "execution_count": 1,
   "metadata": {},
   "outputs": [],
   "source": [
    "import numpy as np \n",
    "import matplotlib.pyplot as plt \n",
    "import random \n"
   ]
  },
  {
   "cell_type": "code",
   "execution_count": 2,
   "metadata": {},
   "outputs": [],
   "source": [
    "from qam import QAM\n",
    "\n",
    "modem = QAM(M=16)\n",
    "mapping_dictionary = modem.get_map()\n",
    "demapping_dict = modem.get_demap()"
   ]
  },
  {
   "cell_type": "code",
   "execution_count": 3,
   "metadata": {},
   "outputs": [
    {
     "name": "stdout",
     "output_type": "stream",
     "text": [
      "{(0, 0, 0, 0): (-3-3j), (0, 0, 0, 1): (-3-1j), (0, 0, 1, 0): (-3+1j), (0, 0, 1, 1): (-3+3j), (0, 1, 0, 0): (-1-3j), (0, 1, 0, 1): (-1-1j), (0, 1, 1, 0): (-1+1j), (0, 1, 1, 1): (-1+3j), (1, 0, 0, 0): (1-3j), (1, 0, 0, 1): (1-1j), (1, 0, 1, 0): (1+1j), (1, 0, 1, 1): (1+3j), (1, 1, 0, 0): (3-3j), (1, 1, 0, 1): (3-1j), (1, 1, 1, 0): (3+1j), (1, 1, 1, 1): (3+3j)}\n",
      "{(-3-3j): (0, 0, 0, 0), (-3-1j): (0, 0, 0, 1), (-3+1j): (0, 0, 1, 0), (-3+3j): (0, 0, 1, 1), (-1-3j): (0, 1, 0, 0), (-1-1j): (0, 1, 0, 1), (-1+1j): (0, 1, 1, 0), (-1+3j): (0, 1, 1, 1), (1-3j): (1, 0, 0, 0), (1-1j): (1, 0, 0, 1), (1+1j): (1, 0, 1, 0), (1+3j): (1, 0, 1, 1), (3-3j): (1, 1, 0, 0), (3-1j): (1, 1, 0, 1), (3+1j): (1, 1, 1, 0), (3+3j): (1, 1, 1, 1)}\n"
     ]
    }
   ],
   "source": [
    "print(mapping_dictionary)\n",
    "print(demapping_dict)"
   ]
  },
  {
   "cell_type": "code",
   "execution_count": 4,
   "metadata": {},
   "outputs": [],
   "source": [
    "# bitstream = np.array([0, 1, 1, 1, 0, 0, 0, 1, 0, 1,])\n",
    "bitstream = np.array(np.random.rand(100) > 0.5, np.int32)\n",
    "M = 16; k = int(np.log2(M))\n",
    "\n",
    "\n",
    "\n",
    "# idx = np.arange(len(bitstream)//k, dtype=np.int32)\n",
    "# symstream = np.zeros(shape=(len(idx), ), dtype=np.complex64) \n",
    "\n",
    "# for i in idx:\n",
    "#     sym = tuple(bitstream[i : i + k])\n",
    "#     symstream[i] = mapping_dictionary[sym]\n",
    "    \n",
    "# print(symstream)\n",
    "\n",
    "# len(symstream)"
   ]
  },
  {
   "cell_type": "code",
   "execution_count": 5,
   "metadata": {},
   "outputs": [
    {
     "name": "stdout",
     "output_type": "stream",
     "text": [
      "[1 0 1 0 0 0 0 1 0 1 1 1 0 0 1 0 1 0 1 0 0 1 0 0 1 0 0 1 1 0 0 0 1 0 0 0 1\n",
      " 0 1 1 0 0 1 0 1 1 0 1 1 0 1 0 1 1 1 0 1 1 0 1 0 0 1 0 0 0 1 1 1 0 1 0 1 0\n",
      " 0 0 1 0 0 0 1 1 1 1 1 0 0 1 0 1 0 0 0 0 1 0 0 1 1 1]\n"
     ]
    }
   ],
   "source": [
    "print(bitstream)"
   ]
  },
  {
   "cell_type": "code",
   "execution_count": 6,
   "metadata": {},
   "outputs": [
    {
     "name": "stdout",
     "output_type": "stream",
     "text": [
      "(1, 0, 1, 0)\n",
      "(0, 0, 0, 1)\n",
      "(0, 1, 1, 1)\n",
      "(0, 0, 1, 0)\n",
      "(1, 0, 1, 0)\n",
      "(0, 1, 0, 0)\n",
      "(1, 0, 0, 1)\n",
      "(1, 0, 0, 0)\n",
      "(1, 0, 0, 0)\n",
      "(1, 0, 1, 1)\n",
      "(0, 0, 1, 0)\n",
      "(1, 1, 0, 1)\n",
      "(1, 0, 1, 0)\n",
      "(1, 1, 1, 0)\n",
      "(1, 1, 0, 1)\n",
      "(0, 0, 1, 0)\n",
      "(0, 0, 1, 1)\n",
      "(1, 0, 1, 0)\n",
      "(1, 0, 0, 0)\n",
      "(1, 0, 0, 0)\n",
      "(1, 1, 1, 1)\n",
      "(1, 0, 0, 1)\n",
      "(0, 1, 0, 0)\n",
      "(0, 0, 1, 0)\n",
      "(0, 1, 1, 1)\n",
      "[1 0 1 0 0 0 0 1 0 1 1 1 0 0 1 0 1 0 1 0 0 1 0 0 1 0 0 1 1 0 0 0 1 0 0 0 1\n",
      " 0 1 1 0 0 1 0 1 1 0 1 1 0 1 0 1 1 1 0 1 1 0 1 0 0 1 0 0 0 1 1 1 0 1 0 1 0\n",
      " 0 0 1 0 0 0 1 1 1 1 1 0 0 1 0 1 0 0 0 0 1 0 0 1 1 1]\n"
     ]
    }
   ],
   "source": [
    "symstream = modem.tx_out(bitstream)\n",
    "print(bitstream)\n",
    "# print(symstream)\n",
    "# print(modem.get_map())\n",
    "# print(modem.get_demap())"
   ]
  },
  {
   "cell_type": "code",
   "execution_count": 10,
   "metadata": {},
   "outputs": [
    {
     "name": "stdout",
     "output_type": "stream",
     "text": [
      "[ 1.+1.j -3.-1.j -1.+3.j -3.+1.j  1.+1.j -1.-3.j  1.-1.j  1.-3.j  1.-3.j\n",
      "  1.+3.j -3.+1.j  3.-1.j  1.+1.j  3.+1.j  3.-1.j -3.+1.j -3.+3.j  1.+1.j\n",
      "  1.-3.j  1.-3.j  3.+3.j  1.-1.j -1.-3.j -3.+1.j -1.+3.j]\n"
     ]
    },
    {
     "data": {
      "text/plain": [
       "array([0, 0, 0, 0, 0, 0, 0, 0, 0, 0, 0, 0, 0, 0, 0, 0, 0, 0, 0, 0, 0, 0,\n",
       "       0, 0, 0, 0, 0, 0, 0, 0, 0, 0, 0, 0, 0, 0, 0, 0, 0, 0, 0, 0, 0, 0,\n",
       "       0, 0, 0, 0, 0, 0, 0, 0, 0, 0, 0, 0, 0, 0, 0, 0, 0, 0, 0, 0, 0, 0,\n",
       "       0, 0, 0, 0, 0, 0, 0, 0, 0, 0, 0, 0, 0, 0, 0, 0, 0, 0, 0, 0, 0, 0,\n",
       "       0, 0, 0, 0, 0, 0, 0, 0, 0, 0, 0, 0], dtype=int32)"
      ]
     },
     "execution_count": 10,
     "metadata": {},
     "output_type": "execute_result"
    }
   ],
   "source": [
    "print(symstream)\n",
    "bitstream_recovered = []\n",
    "demap = modem.get_demap()\n",
    "for sym in symstream:\n",
    "    bitstream_recovered.append(list(demap[sym]))\n",
    "np.array(bitstream_recovered).reshape(-1, 1).squeeze()"
   ]
  },
  {
   "cell_type": "code",
   "execution_count": 18,
   "metadata": {},
   "outputs": [
    {
     "data": {
      "text/plain": [
       "array([0, 0, 0, 0, 1, 0, 0, 0, 1, 1, 1, 1, 1, 1, 1, 1, 1, 0, 0, 1, 0, 0,\n",
       "       1, 1, 0, 0, 0, 0, 0, 1, 1, 0, 0, 1, 0, 0, 0, 1, 1, 0, 0, 1, 1, 0,\n",
       "       1, 0, 1, 1, 0, 0, 0, 1, 1, 1, 1, 1, 0, 1, 0, 1, 1, 1, 0, 0, 1, 1,\n",
       "       0, 1, 0, 0, 0, 1, 0, 0, 1, 1, 1, 1, 1, 0, 1, 1, 1, 0, 0, 0, 1, 1,\n",
       "       0, 0, 1, 0, 1, 1, 0, 1, 1, 0, 0, 0], dtype=int32)"
      ]
     },
     "execution_count": 18,
     "metadata": {},
     "output_type": "execute_result"
    }
   ],
   "source": [
    "bitstream"
   ]
  },
  {
   "cell_type": "code",
   "execution_count": null,
   "metadata": {},
   "outputs": [],
   "source": []
  }
 ],
 "metadata": {
  "kernelspec": {
   "display_name": "Python 3.8.12",
   "language": "python",
   "name": "python3"
  },
  "language_info": {
   "codemirror_mode": {
    "name": "ipython",
    "version": 3
   },
   "file_extension": ".py",
   "mimetype": "text/x-python",
   "name": "python",
   "nbconvert_exporter": "python",
   "pygments_lexer": "ipython3",
   "version": "3.8.12"
  },
  "orig_nbformat": 4,
  "vscode": {
   "interpreter": {
    "hash": "f14269bf3ad7aa2ae115b9ca9481e15e8eacecd83dc3347ac1efd388ad78cc6e"
   }
  }
 },
 "nbformat": 4,
 "nbformat_minor": 2
}
