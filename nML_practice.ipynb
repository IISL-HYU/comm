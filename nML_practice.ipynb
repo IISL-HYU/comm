{
 "cells": [
  {
   "cell_type": "code",
   "execution_count": 1,
   "metadata": {},
   "outputs": [
    {
     "name": "stderr",
     "output_type": "stream",
     "text": [
      "\n",
      "Bad key text.latex.unicode in file /Users/lab2020/opt/anaconda3/envs/learning/lib/python3.7/site-packages/matplotlib/mpl-data/stylelib/_classic_test.mplstyle, line 112 ('text.latex.unicode : False # use \"ucs\" and \"inputenc\" LaTeX packages for handling')\n",
      "You probably need to get an updated matplotlibrc file from\n",
      "https://github.com/matplotlib/matplotlib/blob/v3.3.4/matplotlibrc.template\n",
      "or from the matplotlib source distribution\n",
      "\n",
      "Bad key savefig.frameon in file /Users/lab2020/opt/anaconda3/envs/learning/lib/python3.7/site-packages/matplotlib/mpl-data/stylelib/_classic_test.mplstyle, line 423 ('savefig.frameon : True')\n",
      "You probably need to get an updated matplotlibrc file from\n",
      "https://github.com/matplotlib/matplotlib/blob/v3.3.4/matplotlibrc.template\n",
      "or from the matplotlib source distribution\n",
      "\n",
      "Bad key pgf.debug in file /Users/lab2020/opt/anaconda3/envs/learning/lib/python3.7/site-packages/matplotlib/mpl-data/stylelib/_classic_test.mplstyle, line 444 ('pgf.debug           : False')\n",
      "You probably need to get an updated matplotlibrc file from\n",
      "https://github.com/matplotlib/matplotlib/blob/v3.3.4/matplotlibrc.template\n",
      "or from the matplotlib source distribution\n",
      "\n",
      "Bad key verbose.level in file /Users/lab2020/opt/anaconda3/envs/learning/lib/python3.7/site-packages/matplotlib/mpl-data/stylelib/_classic_test.mplstyle, line 475 ('verbose.level  : silent      # one of silent, helpful, debug, debug-annoying')\n",
      "You probably need to get an updated matplotlibrc file from\n",
      "https://github.com/matplotlib/matplotlib/blob/v3.3.4/matplotlibrc.template\n",
      "or from the matplotlib source distribution\n",
      "\n",
      "Bad key verbose.fileo in file /Users/lab2020/opt/anaconda3/envs/learning/lib/python3.7/site-packages/matplotlib/mpl-data/stylelib/_classic_test.mplstyle, line 476 ('verbose.fileo  : sys.stdout  # a log filename, sys.stdout or sys.stderr')\n",
      "You probably need to get an updated matplotlibrc file from\n",
      "https://github.com/matplotlib/matplotlib/blob/v3.3.4/matplotlibrc.template\n",
      "or from the matplotlib source distribution\n",
      "In /Users/lab2020/opt/anaconda3/envs/learning/lib/python3.7/site-packages/matplotlib/mpl-data/stylelib/_classic_test.mplstyle: \n",
      "The text.latex.preview rcparam was deprecated in Matplotlib 3.3 and will be removed two minor releases later.\n",
      "In /Users/lab2020/opt/anaconda3/envs/learning/lib/python3.7/site-packages/matplotlib/mpl-data/stylelib/_classic_test.mplstyle: \n",
      "The mathtext.fallback_to_cm rcparam was deprecated in Matplotlib 3.3 and will be removed two minor releases later.\n",
      "In /Users/lab2020/opt/anaconda3/envs/learning/lib/python3.7/site-packages/matplotlib/mpl-data/stylelib/_classic_test.mplstyle: Support for setting the 'mathtext.fallback_to_cm' rcParam is deprecated since 3.3 and will be removed two minor releases later; use 'mathtext.fallback : 'cm' instead.\n",
      "In /Users/lab2020/opt/anaconda3/envs/learning/lib/python3.7/site-packages/matplotlib/mpl-data/stylelib/_classic_test.mplstyle: \n",
      "The validate_bool_maybe_none function was deprecated in Matplotlib 3.3 and will be removed two minor releases later.\n",
      "In /Users/lab2020/opt/anaconda3/envs/learning/lib/python3.7/site-packages/matplotlib/mpl-data/stylelib/_classic_test.mplstyle: \n",
      "The savefig.jpeg_quality rcparam was deprecated in Matplotlib 3.3 and will be removed two minor releases later.\n",
      "In /Users/lab2020/opt/anaconda3/envs/learning/lib/python3.7/site-packages/matplotlib/mpl-data/stylelib/_classic_test.mplstyle: \n",
      "The keymap.all_axes rcparam was deprecated in Matplotlib 3.3 and will be removed two minor releases later.\n",
      "In /Users/lab2020/opt/anaconda3/envs/learning/lib/python3.7/site-packages/matplotlib/mpl-data/stylelib/_classic_test.mplstyle: \n",
      "The animation.avconv_path rcparam was deprecated in Matplotlib 3.3 and will be removed two minor releases later.\n",
      "In /Users/lab2020/opt/anaconda3/envs/learning/lib/python3.7/site-packages/matplotlib/mpl-data/stylelib/_classic_test.mplstyle: \n",
      "The animation.avconv_args rcparam was deprecated in Matplotlib 3.3 and will be removed two minor releases later.\n"
     ]
    }
   ],
   "source": [
    "\n",
    "import numpy as np\n",
    "import matplotlib.pyplot as plt\n",
    "# import cvxpy as cp \n",
    "from scipy import optimize\n",
    "from scipy.linalg import toeplitz\n",
    "from numpy import fft \n",
    "from core.core import *\n",
    "from util.detector import * \n",
    "from util.estimator import * \n",
    "from util.modem import * \n",
    "\n",
    "import random\n",
    "import os "
   ]
  },
  {
   "cell_type": "markdown",
   "metadata": {},
   "source": [
    "### The Maximum Likelihood detection"
   ]
  },
  {
   "cell_type": "code",
   "execution_count": 2,
   "metadata": {},
   "outputs": [],
   "source": [
    "def ml(y_re, H_re, symbol_space, snr_dB):\n",
    "    \"\"\"\n",
    "    Maximum Likelihood detection for KxN mu-MIMO channel (uses Gaussian distribution) \n",
    "    \"\"\"\n",
    "    # complex to real and then reshape for broadcast\n",
    "    snr = 10**(snr_dB/20)\n",
    "    T = H_re.shape[0]\n",
    "    K = H_re.shape[-1] // 2\n",
    "    M = int(symbol_space.shape[0] ** (1/K))\n",
    "    x_shape = tuple([T, K, 1])\n",
    "    symbol_space_re = np.hstack((symbol_space.real, symbol_space.imag)) * np.ones(shape=(T, M**K, 2*K))\n",
    "    likelihood = phi(np.matmul(symbol_space_re, H_re.transpose(0, 2, 1)) * y_re.transpose(0, 2, 1) * np.sqrt(2 * snr))\n",
    "    log_likelihood = np.sum(np.log(likelihood), axis=2)\n",
    "    x_hat_idx = np.argmax(log_likelihood, axis=1)\n",
    "    x_hat_ML = np.take(symbol_space, x_hat_idx, axis=0)\n",
    "    x_hat_ML = x_hat_ML.reshape(x_shape)\n",
    "    return x_hat_ML "
   ]
  },
  {
   "cell_type": "markdown",
   "metadata": {},
   "source": [
    "### Near maximum Likelihood detection (Optimization method) \n"
   ]
  },
  {
   "cell_type": "code",
   "execution_count": 30,
   "metadata": {},
   "outputs": [],
   "source": [
    "def make_symbol_space(K, M, cp):\n",
    "    \"\"\"\n",
    "    Makes symbol space S = |M|^K \n",
    "    :params: \n",
    "    :   K (int) : number of users\\n\n",
    "    :   M (int) : level of modulation\\n\n",
    "    :returns:\n",
    "    :   symbol_space (np.ndarray) : symbol space S=|M|^K\n",
    "    \"\"\"\n",
    "    index_space = np.indices([M for _ in range(K)]).reshape(K, -1).T \n",
    "    symbol_space = np.take(cp, index_space)\n",
    "    return symbol_space \n",
    "\n",
    "def comp2re(H, x, z, r):\n",
    "    x_re = np.hstack((x.real, x.imag))\n",
    "    z_re = np.hstack((z.real, x.imag))\n",
    "    r_re = np.hstack((r.real, r.imag)) \n",
    "    H_re = np.block([\n",
    "        [H.real, -H.imag],\n",
    "        [H.imag, H.real]\n",
    "    ])\n",
    "    return H_re, x_re, z_re, r_re \n",
    "\n",
    "def initialize(G_tilde, y_re):\n",
    "    num1 = np.matmul(G_tilde.transpose(0, 2, 1), np.ones_like(y_re))\n",
    "    denom1 = np.linalg.norm(num1, axis=1).reshape(-1, 1, 1)\n",
    "    x_init = (num1 / denom1) * np.sqrt(K)\n",
    "    return x_init\n",
    "\n",
    "def cost(G_tilde, x_init, snr):\n",
    "    snr = 10 ** (snr/20) \n",
    "    g = np.sqrt(2 * snr) * (G_tilde @ x_init) \n",
    "    g = phi(g) \n",
    "    g = np.log(g) \n",
    "    g = np.sum(g, axis=1) \n",
    "    return g\n",
    "\n",
    "def compute_gradient(G_tilde, x_init, snr):\n",
    "    snr = 10 ** (snr/20) \n",
    "    inner = G_tilde @ x_init \n",
    "    # print(\"inner product term:\", inner)\n",
    "    nom = inner ** 2\n",
    "    nom = np.exp(-snr * nom) \n",
    "    # print(\"numerator\", nom)\n",
    "    denom = np.sqrt(2 * snr) * inner \n",
    "    denom = phi(denom)\n",
    "    denom = np.clip(a=denom, a_min=0.001, a_max=None)\n",
    "    # print(\"denominator: \", denom)\n",
    "    grad = (1 / np.sqrt(2 * np.pi)) * (nom / denom) \n",
    "    grad = G_tilde.transpose(0, 2, 1) @ grad \n",
    "    return grad\n",
    "\n",
    "def GD(x_init, snr, epoch=100, lr=0.01):\n",
    "    global G_tilde \n",
    "    global K\n",
    "    costs = []\n",
    "    for e in range(epoch):\n",
    "        # print(x_init[0].squeeze(), '-->', end=' ')\n",
    "        x_init += lr * compute_gradient(G_tilde=G_tilde, x_init=x_init, snr=snr)\n",
    "        # print(x_init[0].squeeze())\n",
    "        if np.linalg.norm(x_init) >= np.sqrt(K):\n",
    "            x_init /= np.linalg.norm(x_init, axis=1).reshape(-1, 1, 1)\n",
    "            x_init *= np.sqrt(K)\n",
    "        costs.append(cost(G_tilde=G_tilde, x_init=x_init, snr=snr))\n",
    "        # if e % 1 == 0 : \n",
    "        #     print(f\"epoch {e}: cost=\", np.around(cost(G_tilde=G_tilde, x_init=x_init, snr=snr).squeeze(), 2))\n",
    "    return costs, x_init\n",
    "\n",
    "\n",
    "def nML():\n",
    "    pass "
   ]
  },
  {
   "cell_type": "code",
   "execution_count": 34,
   "metadata": {},
   "outputs": [
    {
     "name": "stdout",
     "output_type": "stream",
     "text": [
      "Trial #0:  "
     ]
    },
    {
     "name": "stderr",
     "output_type": "stream",
     "text": [
      "/Users/lab2020/opt/anaconda3/envs/learning/lib/python3.7/site-packages/ipykernel_launcher.py:13: RuntimeWarning: divide by zero encountered in log\n",
      "  del sys.path[0]\n"
     ]
    },
    {
     "name": "stdout",
     "output_type": "stream",
     "text": [
      "SER per snr:  \n",
      "    0.0012\n"
     ]
    }
   ],
   "source": [
    "\n",
    "trials = 1\n",
    "K = 2; N = 16; T = int(1e4); M = 4\n",
    "\n",
    "snr_min = -10 \n",
    "snr_max = 30 \n",
    "snr_lst = np.arange(snr_min, snr_max+1, 5)\n",
    "\n",
    "constellation_points = np.array([-1-1j, -1+1j, 1-1j, 1+1j])\n",
    "constellation_points /= np.sqrt(2) \n",
    "\n",
    "symbol_space = make_symbol_space(K, M, constellation_points)\n",
    "\n",
    "sers_avg = np.zeros(shape=(len(snr_lst), 2)) \n",
    "x = np.random.randint(0, M, size=K * T).reshape(T, K, 1) \n",
    "x = np.take(constellation_points, x)\n",
    "for t in range(trials):\n",
    "    print(f\"Trial #{t}: \", end=' ')\n",
    "    sers = []\n",
    "    for snr in [5]:\n",
    "        # print(f\"snr {snr}...\", end=' ')\n",
    "\n",
    "        # Channel \n",
    "        H = (1 / np.sqrt(2)) * (np.random.randn(T, N, K) + 1j * np.random.randn(T, N, K))\n",
    "        z = (1 / np.sqrt(2)) * (np.random.randn(T, N, 1) + 1j * np.random.randn(T, N, 1))\n",
    "\n",
    "        r = np.matmul(H, x) + (10**(-snr/20)) * z  \n",
    "\n",
    "        # 1-bit ADC \n",
    "        y = np.sign(r.real) + 1j * np.sign(r.imag) \n",
    "\n",
    "        H_re, x_re, z_re, y_re = comp2re(H, x, z, y)\n",
    "\n",
    "        G_tilde = H_re * y_re \n",
    "\n",
    "        x_hat_ML = ml(y_re=y_re, H_re=H_re, symbol_space=symbol_space, snr_dB=snr)\n",
    "\n",
    "        x_init = initialize(G_tilde=G_tilde, y_re=y_re)\n",
    "        x_init_c = x_init[:, :K, :] + 1j * x_init[:, K:, :]\n",
    "        \n",
    "\n",
    "        _, x_tilde_re = GD(x_init=x_init, snr=snr, epoch=20, lr=0.02)\n",
    "        x_tilde = x_tilde_re[:, :K, :] + 1j * x_tilde_re[:, K:, :]\n",
    "        x_det_first_stage = symbol_by_symbol(x_tilde=x_tilde, constellation_points=constellation_points)\n",
    "        \n",
    "\n",
    "        ser = np.sum(1 - np.isclose(x_det_first_stage, x)) / (T * K)\n",
    "        ser_ml = np.sum(1 - np.isclose(x_hat_ML, x)) / (T * K)\n",
    "\n",
    "        sers.append([ser, ser_ml])\n",
    "    sers = np.array(sers)\n",
    "    print(\"SER per snr:  \\n   \", sers[:, 0].squeeze())\n",
    "    sers_avg += sers     \n",
    "\n",
    "sers_avg /= trials"
   ]
  },
  {
   "cell_type": "code",
   "execution_count": 61,
   "metadata": {},
   "outputs": [
    {
     "name": "stdout",
     "output_type": "stream",
     "text": [
      "Trial #0:  "
     ]
    },
    {
     "name": "stderr",
     "output_type": "stream",
     "text": [
      "/Users/lab2020/opt/anaconda3/envs/learning/lib/python3.7/site-packages/ipykernel_launcher.py:13: RuntimeWarning: divide by zero encountered in log\n",
      "  del sys.path[0]\n",
      "/Users/lab2020/opt/anaconda3/envs/learning/lib/python3.7/site-packages/ipykernel_launcher.py:34: RuntimeWarning: divide by zero encountered in log\n"
     ]
    },
    {
     "name": "stdout",
     "output_type": "stream",
     "text": [
      "SER per snr:  \n",
      "    [3.1980e-01 1.1435e-01 1.5100e-02 1.4500e-03 2.0000e-04 5.0000e-05\n",
      " 1.0000e-04 1.5000e-04 4.0000e-04]\n",
      "Trial #1:  SER per snr:  \n",
      "    [3.196e-01 1.086e-01 1.700e-02 1.450e-03 1.500e-04 1.000e-04 0.000e+00\n",
      " 1.000e-04 2.500e-04]\n",
      "Trial #2:  SER per snr:  \n",
      "    [3.1385e-01 1.1460e-01 1.7750e-02 1.5000e-03 5.0000e-05 5.0000e-05\n",
      " 0.0000e+00 1.5000e-04 2.5000e-04]\n",
      "Trial #3:  SER per snr:  \n",
      "    [3.1890e-01 1.1385e-01 1.6300e-02 1.0000e-03 2.5000e-04 5.0000e-05\n",
      " 1.0000e-04 0.0000e+00 3.5000e-04]\n",
      "Trial #4:  SER per snr:  \n",
      "    [3.1435e-01 1.1450e-01 1.6300e-02 1.2000e-03 2.0000e-04 5.0000e-05\n",
      " 5.0000e-05 5.0000e-05 5.0000e-04]\n",
      "Trial #5:  SER per snr:  \n",
      "    [3.1515e-01 1.1155e-01 1.6350e-02 1.2000e-03 2.0000e-04 1.5000e-04\n",
      " 1.0000e-04 2.0000e-04 2.0000e-04]\n",
      "Trial #6:  SER per snr:  \n",
      "    [3.212e-01 1.139e-01 1.765e-02 1.000e-03 0.000e+00 1.000e-04 5.000e-05\n",
      " 1.500e-04 2.500e-04]\n",
      "Trial #7:  SER per snr:  \n",
      "    [3.1640e-01 1.1445e-01 1.7700e-02 1.3500e-03 5.0000e-05 0.0000e+00\n",
      " 1.5000e-04 1.0000e-04 5.5000e-04]\n",
      "Trial #8:  SER per snr:  \n",
      "    [3.1120e-01 1.1085e-01 1.6550e-02 1.4000e-03 4.5000e-04 0.0000e+00\n",
      " 5.0000e-05 1.5000e-04 4.0000e-04]\n",
      "Trial #9:  SER per snr:  \n",
      "    [3.1400e-01 1.1465e-01 1.6250e-02 1.1500e-03 2.0000e-04 5.0000e-05\n",
      " 1.5000e-04 0.0000e+00 3.5000e-04]\n"
     ]
    }
   ],
   "source": [
    "def make_symbol_space(K, M, cp):\n",
    "    \"\"\"\n",
    "    Makes symbol space S = |M|^K \n",
    "    :params: \n",
    "    :   K (int) : number of users\\n\n",
    "    :   M (int) : level of modulation\\n\n",
    "    :returns:\n",
    "    :   symbol_space (np.ndarray) : symbol space S=|M|^K\n",
    "    \"\"\"\n",
    "    index_space = np.indices([M for _ in range(K)]).reshape(K, -1).T \n",
    "    symbol_space = np.take(cp, index_space)\n",
    "    return symbol_space \n",
    "\n",
    "def comp2re(H, x, z, r):\n",
    "    x_re = np.hstack((x.real, x.imag))\n",
    "    z_re = np.hstack((z.real, x.imag))\n",
    "    r_re = np.hstack((r.real, r.imag)) \n",
    "    H_re = np.block([\n",
    "        [H.real, -H.imag],\n",
    "        [H.imag, H.real]\n",
    "    ])\n",
    "    return H_re, x_re, z_re, r_re \n",
    "\n",
    "def initialize(G_tilde, y_re):\n",
    "    num1 = np.matmul(G_tilde.transpose(0, 2, 1), np.ones_like(y_re))\n",
    "    denom1 = np.linalg.norm(num1, axis=1).reshape(-1, 1, 1)\n",
    "    x_init = (num1 / denom1) * np.sqrt(K)\n",
    "    return x_init\n",
    "\n",
    "def cost(G_tilde, x_init, snr):\n",
    "    snr = 10 ** (snr/20) \n",
    "    g = np.sqrt(2 * snr) * (G_tilde @ x_init) \n",
    "    g = phi(g) \n",
    "    g = np.log(g) \n",
    "    g = np.sum(g, axis=1) \n",
    "    return g\n",
    "\n",
    "def compute_gradient(G_tilde, x_init, snr):\n",
    "    snr = 10 ** (snr/20) \n",
    "    inner = G_tilde @ x_init \n",
    "    # print(\"inner product term:\", inner)\n",
    "    nom = inner ** 2\n",
    "    nom = np.exp(-snr * nom) \n",
    "    # print(\"numerator\", nom)\n",
    "    denom = np.sqrt(2 * snr) * inner \n",
    "    denom = phi(denom)\n",
    "    denom = np.clip(a=denom, a_min=0.001, a_max=None)\n",
    "    # print(\"denominator: \", denom)\n",
    "    grad = (1 / np.sqrt(2 * np.pi)) * (nom / denom) \n",
    "    grad = G_tilde.transpose(0, 2, 1) @ grad \n",
    "    return grad\n",
    "\n",
    "def GD(x_init, snr, G_tilde, epoch=100, lr=0.01):\n",
    "    global K\n",
    "    costs = []\n",
    "    for e in range(epoch):\n",
    "        # print(x_init[0].squeeze(), '-->', end=' ')\n",
    "        x_init += lr * compute_gradient(G_tilde=G_tilde, x_init=x_init, snr=snr)\n",
    "        # print(x_init[0].squeeze())\n",
    "        if np.linalg.norm(x_init) >= np.sqrt(K):\n",
    "            x_init /= np.linalg.norm(x_init, axis=1).reshape(-1, 1, 1)\n",
    "            x_init *= np.sqrt(K)\n",
    "        costs.append(cost(G_tilde=G_tilde, x_init=x_init, snr=snr))\n",
    "        # if e % 1 == 0 : \n",
    "        #     print(f\"epoch {e}: cost=\", np.around(cost(G_tilde=G_tilde, x_init=x_init, snr=snr).squeeze(), 2))\n",
    "    return costs, x_init\n",
    "\n",
    "\n",
    "def nML(H_re, y_re):\n",
    "    \"\"\"\n",
    "    near maximum likelihood method (first stage)\n",
    "    \"\"\"\n",
    "    global snr\n",
    "    G_tilde = H_re * y_re \n",
    "    x_init = initialize(G_tilde=G_tilde, y_re=y_re)\n",
    "    _, x_tilde_re = GD(x_init=x_init, snr=snr, epoch=20, lr=0.02, G_tilde=G_tilde)\n",
    "    x_tilde = x_tilde_re[:, :K, :] + 1j * x_tilde_re[:, K:, :]\n",
    "    return x_tilde \n",
    "\n",
    "trials = 10\n",
    "K = 2; N = 16; T = 10000; M = 4\n",
    "\n",
    "snr_min = -10 \n",
    "snr_max = 30 \n",
    "snr_lst = np.arange(snr_min, snr_max+1, 5)\n",
    "\n",
    "constellation_points = np.array([-1-1j, -1+1j, 1-1j, 1+1j])\n",
    "constellation_points /= np.sqrt(2) \n",
    "\n",
    "symbol_space = make_symbol_space(K, M, constellation_points)\n",
    "\n",
    "sers_avg = np.zeros(shape=(len(snr_lst), 2)) \n",
    "x = np.random.randint(0, M, size=K * T).reshape(T, K, 1) \n",
    "x = np.take(constellation_points, x)\n",
    "\n",
    "\n",
    "\n",
    "for t in range(trials):\n",
    "    print(f\"Trial #{t}: \", end=' ')\n",
    "    sers = []\n",
    "    for snr in snr_lst:\n",
    "        # print(f\"snr {snr}...\", end=' ')\n",
    "\n",
    "        # Channel \n",
    "        H = (1 / np.sqrt(2)) * (np.random.randn(T, N, K) + 1j * np.random.randn(T, N, K))\n",
    "        z = (1 / np.sqrt(2)) * (np.random.randn(T, N, 1) + 1j * np.random.randn(T, N, 1))\n",
    "\n",
    "        r = np.matmul(H, x) + (10**(-snr/20)) * z  \n",
    "\n",
    "        # 1-bit ADC \n",
    "        y = np.sign(r.real) + 1j * np.sign(r.imag) \n",
    "\n",
    "        H_re, x_re, z_re, y_re = comp2re(H, x, z, y)\n",
    "\n",
    "        # near ML estimation(functional)\n",
    "        x_tilde = nML(H_re, y_re)\n",
    "        x_det_first_stage = symbol_by_symbol(x_tilde=x_tilde, constellation_points=constellation_points)\n",
    "\n",
    "        x_hat_ML = ml(y_re=y_re, H_re=H_re, symbol_space=symbol_space, snr_dB=snr)\n",
    "\n",
    "\n",
    "        ser = np.sum(1 - np.isclose(x_det_first_stage, x)) / (T * K)\n",
    "        ser_ml = np.sum(1 - np.isclose(x_hat_ML, x)) / (T * K)\n",
    "\n",
    "        sers.append([ser, ser_ml])\n",
    "\n",
    "    sers = np.array(sers)\n",
    "    print(\"SER per snr:  \\n   \", sers[:, 0].squeeze())\n",
    "    sers_avg += sers     \n",
    "\n",
    "sers_avg /= trials"
   ]
  },
  {
   "cell_type": "code",
   "execution_count": 62,
   "metadata": {},
   "outputs": [
    {
     "data": {
      "image/png": "[encoded data removed]",
      "text/plain": [
       "<Figure size 648x576 with 1 Axes>"
      ]
     },
     "metadata": {
      "needs_background": "light"
     },
     "output_type": "display_data"
    }
   ],
   "source": [
    "plt.figure(figsize=(9, 8))\n",
    "plt.semilogy(snr_lst, sers_avg[:, 0], '-rs', label='nML')\n",
    "# plt.semilogy(snr_lst, sers[:, 1])\n",
    "plt.semilogy(snr_lst, sers_avg[:, 1], '-bo', label='ML')\n",
    "plt.xlim([-11, 31]); plt.ylim([1e-6, 1])\n",
    "plt.xticks(fontsize=15); plt.xlabel(\"SNR\", fontsize=15)\n",
    "plt.yticks([1e-0, 1e-1, 1e-2, 1e-3, 1e-4, 1e-5, 1e-6], fontsize=15); plt.ylabel(\"SER\", fontsize=15)\n",
    "plt.grid(); plt.legend(fontsize=15); plt.title(\"Symbol Error Rate (nML vs. ML)\", fontsize=20)\n",
    "plt.show()"
   ]
  },
  {
   "cell_type": "code",
   "execution_count": 38,
   "metadata": {},
   "outputs": [
    {
     "name": "stdout",
     "output_type": "stream",
     "text": [
      "[3.1611295e-01 1.0877510e-01 1.3768750e-02 8.8650000e-04 7.5050000e-05\n",
      " 1.4250000e-05 4.6000000e-06 2.9500000e-06]\n"
     ]
    },
    {
     "data": {
      "image/png": "[encoded data removed]",
      "text/plain": [
       "<Figure size 432x288 with 1 Axes>"
      ]
     },
     "metadata": {
      "needs_background": "light"
     },
     "output_type": "display_data"
    }
   ],
   "source": [
    "sers_avg_nML = sers_avg[:-1, 0]\n",
    "save_dir = './results/'\n",
    "load_fname = \"sers_avg_ml.npy\"\n",
    "\n",
    "# plt.semilogy(snr_lst[:-1], sers_avg_nML)\n",
    "# sers_avg_ml = np.load(save_dir+load_fname)\n",
    "# print(sers_avg_ml)\n",
    "# plt.semilogy(snr_lst[:-1], sers_avg_ml)\n",
    "\n",
    "# plt.show()"
   ]
  },
  {
   "cell_type": "markdown",
   "metadata": {},
   "source": [
    "## Save simulated nML results"
   ]
  },
  {
   "cell_type": "code",
   "execution_count": 40,
   "metadata": {},
   "outputs": [],
   "source": [
    "np.save(save_dir + \"sers_avg_nML.npy\", sers_avg_nML) \n",
    "\n",
    "del sers_avg_nML"
   ]
  },
  {
   "cell_type": "markdown",
   "metadata": {},
   "source": [
    "### load saved results zf to nML (one-stage)"
   ]
  },
  {
   "cell_type": "code",
   "execution_count": 6,
   "metadata": {},
   "outputs": [
    {
     "name": "stdout",
     "output_type": "stream",
     "text": [
      "results from directory: \n",
      "\t ./results/sers_avg_1_bit_zero_forcing.npy\n",
      "\t ./results/sers_avg_conventional_zero_forcing.npy\n",
      "\t ./results/sers_avg_bmmse.npy\n",
      "\t ./results/sers_avg_nML.npy\n",
      "\t ./results/sers_avg_ml.npy\n"
     ]
    }
   ],
   "source": [
    "# def loadf(fname: str, load_dir='./results/'):\n",
    "#     if load_dir == None:    \n",
    "#         load_dir = \"./results/\"\n",
    "#     fname = fname\n",
    "#     fdir = os.path.join(load_dir, fname)\n",
    "#     print(fdir)\n",
    "#     return np.load(fdir)\n",
    "    \n",
    "# def get_all_results(load_dir='./results/'):\n",
    "#     fnames = None \n",
    "#     for dir_path, dir_names, fname in os.walk(load_dir):\n",
    "#         fnames = fname\n",
    "#     return fnames \n",
    "\n",
    "# def load_all_results(load_dir='./results/'):\n",
    "#     \"\"\"\n",
    "#     loads all results and returns its name and value \n",
    "#     \"\"\"\n",
    "#     results_key = get_all_results()\n",
    "#     results_value = [loadf(i) for i in results_key]\n",
    "#     return results_key, results_value\n",
    "# fnames_lst = None \n",
    "# for dir_path, dir_names, fnames in os.walk(save_dir):\n",
    "#     fnames_lst = fnames\n",
    "#     print(fnames)\n",
    "\n",
    "# results = [loadf(i) for i in fnames_lst]\n",
    "\n",
    "_, results = load_all_results()\n"
   ]
  },
  {
   "cell_type": "code",
   "execution_count": 7,
   "metadata": {},
   "outputs": [
    {
     "data": {
      "image/png": "[encoded data removed]",
      "text/plain": [
       "<Figure size 648x576 with 1 Axes>"
      ]
     },
     "metadata": {
      "needs_background": "light"
     },
     "output_type": "display_data"
    }
   ],
   "source": [
    "plt.figure(figsize=(9, 8))\n",
    "# plt.semilogy(snr_lst[1:], results[2], '-s', )\n",
    "plt.semilogy(snr_lst[:-1], results[3], '-rs', markersize=10, label='One-Stage ML')\n",
    "plt.semilogy(snr_lst[:-1], results[4], '-bs', markersize=10, label='Original ML')\n",
    "plt.xlim([-10, 20]); plt.ylim([1e-6, 1e0])\n",
    "plt.xlabel(\"SNR(dB)\", fontsize=15); plt.ylabel(\"SER\", fontsize=15); plt.title(\"Symbol-Error-Rate for nML vs ML\", fontsize=20)\n",
    "plt.grid(); plt.legend(fontsize=15)\n",
    "plt.show()"
   ]
  }
 ],
 "metadata": {
  "kernelspec": {
   "display_name": "Python 3.7.0 ('learning')",
   "language": "python",
   "name": "python3"
  },
  "language_info": {
   "codemirror_mode": {
    "name": "ipython",
    "version": 3
   },
   "file_extension": ".py",
   "mimetype": "text/x-python",
   "name": "python",
   "nbconvert_exporter": "python",
   "pygments_lexer": "ipython3",
   "version": "3.7.0"
  },
  "orig_nbformat": 4,
  "vscode": {
   "interpreter": {
    "hash": "7ab57b40917d2668bbbeeb6dcb0f927fae8d33b10a6538581e5b2008fa03fdfe"
   }
  }
 },
 "nbformat": 4,
 "nbformat_minor": 2
}
