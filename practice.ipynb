{
 "cells": [
  {
   "cell_type": "markdown",
   "metadata": {},
   "source": [
    "### Fourier Transform "
   ]
  },
  {
   "cell_type": "code",
   "execution_count": 3,
   "metadata": {},
   "outputs": [],
   "source": [
    "import numpy as np\n",
    "import matplotlib.pyplot as plt\n",
    "from scipy.linalg import toeplitz\n",
    "from numpy import fft \n",
    "import random\n",
    "import os \n"
   ]
  },
  {
   "cell_type": "markdown",
   "metadata": {},
   "source": [
    "## Search method practice"
   ]
  },
  {
   "cell_type": "code",
   "execution_count": 11,
   "metadata": {},
   "outputs": [
    {
     "name": "stdout",
     "output_type": "stream",
     "text": [
      "[ 1.-1.j  1.+1.j -1.+1.j -1.-1.j -1.+1.j -1.+1.j  1.+1.j -1.+1.j  1.-1.j\n",
      " -1.+1.j]\n",
      "0 (1.4670736417682992-0.17529495214186933j)\n",
      "1 (0.678263990402761+0.6600418307018411j)\n",
      "2 (-1.1562681933061238+0.19849270278748593j)\n",
      "3 (-0.7601822926679618-0.8592164128004902j)\n",
      "4 (-0.8968345247580838+1.045484887221746j)\n",
      "5 (-0.5997528031177294+0.23669945424074706j)\n",
      "6 (2.405021547090779+0.8517465074598349j)\n",
      "7 (-0.7921129193711717+0.7745665996133096j)\n",
      "8 (1.308781281836196-0.41610246709126547j)\n",
      "9 (-2.0085393093837176+0.21626987205488984j)\n"
     ]
    },
    {
     "data": {
      "image/png": "[encoded data removed]",
      "text/plain": [
       "<Figure size 432x288 with 1 Axes>"
      ]
     },
     "metadata": {
      "needs_background": "light"
     },
     "output_type": "display_data"
    }
   ],
   "source": [
    "x_r = np.random.randn(10)\n",
    "x_i = np.random.randn(10) \n",
    "x = x_r + 1j * x_i \n",
    "cp_r = []\n",
    "\n",
    "cpoints = np.array([\n",
    "    -1-1j,\n",
    "    -1+1j, \n",
    "    1+1j,\n",
    "    1-1j,\n",
    "])\n",
    "plt.plot(cpoints.real, cpoints.imag, 'o')\n",
    "plt.plot(x_r, x_i, 'or')\n",
    "\n",
    "compare = np.abs(x - cpoints.reshape(-1, 1))\n",
    "dets = np.array([cpoints[i] for i in np.argmin(compare, axis=0)])\n",
    "print(dets)\n",
    "\n",
    "for i, cp in enumerate(x):\n",
    "    print(i, cp) \n",
    "    plt.plot([dets[i].real, cp.real], [dets[i].imag, cp.imag], 'k-')\n",
    "\n",
    "plt.grid() \n",
    "plt.xlim([-2, 2])\n",
    "plt.ylim([-2, 2])\n",
    "plt.show()\n"
   ]
  },
  {
   "cell_type": "code",
   "execution_count": 12,
   "metadata": {},
   "outputs": [
    {
     "data": {
      "text/plain": [
       "(array([ 1.46707364-0.17529495j,  0.67826399+0.66004183j,\n",
       "        -1.15626819+0.1984927j , -0.76018229-0.85921641j,\n",
       "        -0.89683452+1.04548489j, -0.5997528 +0.23669945j,\n",
       "         2.40502155+0.85174651j, -0.79211292+0.7745666j ,\n",
       "         1.30878128-0.41610247j, -2.00853931+0.21626987j]),\n",
       " array([ 1.-1.j,  1.+1.j, -1.+1.j, -1.-1.j, -1.+1.j, -1.+1.j,  1.+1.j,\n",
       "        -1.+1.j,  1.-1.j, -1.+1.j]),\n",
       " array([[-1.-1.j],\n",
       "        [-1.+1.j],\n",
       "        [ 1.+1.j],\n",
       "        [ 1.-1.j]]))"
      ]
     },
     "execution_count": 12,
     "metadata": {},
     "output_type": "execute_result"
    }
   ],
   "source": [
    "c = 2\n",
    "x_estimated = x\n",
    "x_detected = dets \n",
    "x_exact = cpoints.reshape(-1, 1)\n",
    "x_estimated, x_detected, x_exact "
   ]
  },
  {
   "cell_type": "code",
   "execution_count": 13,
   "metadata": {},
   "outputs": [],
   "source": [
    "nominator = np.abs(x_estimated - x_exact)\n",
    "denominator = np.abs(x_estimated - x_detected)"
   ]
  },
  {
   "cell_type": "code",
   "execution_count": 14,
   "metadata": {},
   "outputs": [
    {
     "name": "stdout",
     "output_type": "stream",
     "text": [
      "[[2.60126715 2.36057385 1.20863746 0.27808731 2.04808485 1.29985513\n",
      "  3.87596915 1.78670189 2.38147167 1.58002023]\n",
      " [2.73272219 1.71234972 0.81659886 1.87461948 0.11274746 0.86187327\n",
      "  3.40824747 0.30665495 2.70847138 1.27725661]\n",
      " [1.26470392 0.46806583 2.30041441 2.56025924 1.8973798  1.77252271\n",
      "  1.41282152 1.80623612 1.44937644 3.10894543]\n",
      " [0.94778489 1.69093257 2.46695709 1.76580342 2.78962177 2.02203723\n",
      "  2.32444632 2.52205379 0.66051662 3.24509186]]\n",
      "[0.94778489 0.46806583 0.81659886 0.27808731 0.11274746 0.86187327\n",
      " 1.41282152 0.30665495 0.66051662 1.27725661]\n"
     ]
    }
   ],
   "source": [
    "print(nominator)\n",
    "print(denominator)\n",
    "condition = nominator / denominator < c"
   ]
  },
  {
   "cell_type": "code",
   "execution_count": 15,
   "metadata": {},
   "outputs": [
    {
     "name": "stdout",
     "output_type": "stream",
     "text": [
      "[2 1 2 1 1 2 2 1 1 2]\n",
      "[[2, 3], [2], [0, 1], [0], [1], [0, 1], [2, 3], [1], [3], [0, 1]]\n"
     ]
    },
    {
     "data": {
      "text/plain": [
       "[[(1+1j), (1-1j)],\n",
       " [(1+1j)],\n",
       " [(-1-1j), (-1+1j)],\n",
       " [(-1-1j)],\n",
       " [(-1+1j)],\n",
       " [(-1-1j), (-1+1j)],\n",
       " [(1+1j), (1-1j)],\n",
       " [(-1+1j)],\n",
       " [(1-1j)],\n",
       " [(-1-1j), (-1+1j)]]"
      ]
     },
     "execution_count": 15,
     "metadata": {},
     "output_type": "execute_result"
    }
   ],
   "source": [
    "# search nML \n",
    "\n",
    "print(np.sum(condition.T, axis=1))\n",
    "nnset = np.array(np.nonzero(condition.T))\n",
    "# np.array([cpoints[i] for i in np.nonzero(condition.T)[1]])\n",
    "\n",
    "nn = [[] for _ in range(10)]\n",
    "for k, m in nnset.T:\n",
    "\n",
    "    nn[k].append(m) \n",
    "print(nn)\n",
    "new = []\n",
    "for n in nn:\n",
    "    new.append(list(np.take(cpoints, n)))\n",
    "new"
   ]
  },
  {
   "cell_type": "markdown",
   "metadata": {},
   "source": [
    "## MIMO Receiver with 1-bit-ADC (Linear Receiver) for 1 timestep"
   ]
  },
  {
   "cell_type": "code",
   "execution_count": 20,
   "metadata": {},
   "outputs": [
    {
     "data": {
      "text/plain": [
       "(array([[ True],\n",
       "        [False],\n",
       "        [ True],\n",
       "        [ True]]),\n",
       " array([[ True],\n",
       "        [False],\n",
       "        [ True],\n",
       "        [ True]]))"
      ]
     },
     "execution_count": 20,
     "metadata": {},
     "output_type": "execute_result"
    }
   ],
   "source": [
    "K = 4\n",
    "N = 8\n",
    "M = 4 \n",
    "\n",
    "def make_symbol_space(K, M, cp):\n",
    "    index_space = np.indices([M for _ in range(K)]).reshape(K, -1).T \n",
    "    symbol_space = np.take(cp, index_space)\n",
    "    return symbol_space \n",
    "\n",
    "def comp2re(H, x, z, r):\n",
    "    x_re = np.vstack((x.real, x.imag))\n",
    "    z_re = np.vstack((z.real, x.imag))\n",
    "    r_re = np.vstack((r.real, r.imag)) \n",
    "    H_re = np.block([\n",
    "        [H.real, -H.imag],\n",
    "        [H.imag, H.real]\n",
    "    ])\n",
    "    return H_re, x_re, z_re, r_re \n",
    "\n",
    "# simple constellation points (normalized)\n",
    "constellation_points = np.array([-1-1j, -1+1j, 1-1j, 1+1j])\n",
    "constellation_points /= np.sqrt(2) \n",
    "symbol_space = make_symbol_space(K, M, cp=constellation_points) \n",
    "\n",
    "# symbols for 1-timeslot \n",
    "x = np.random.randint(0, M, size=K).reshape(-1, 1) \n",
    "x = np.take(constellation_points, x)\n",
    "\n",
    "# Channel \n",
    "H = (1 / np.sqrt(2)) * (np.random.randn(N, K) + 1j * np.random.randn(N, K))\n",
    "z = (1 / np.sqrt(2)) * (np.random.randn(N, 1) + 1j * np.random.randn(N, 1))\n",
    "\n",
    "r = np.matmul(H, x) + z \n",
    "\n",
    "# Complex to real representation \n",
    "H_re, x_re, z_re, r_re = comp2re(H, x, z, r) \n",
    "\n",
    "# 1-bit ADC \n",
    "y = np.sign(r_re) \n",
    "\n",
    "# relaxed linear receiver \n",
    "W_zf = np.linalg.pinv(H_re)\n",
    "W_MMSE = np.matmul((H_re.conjugate()).T, H_re) + np.eye(2 * K) \n",
    "W_MMSE = np.linalg.inv(W_MMSE) \n",
    "W_MMSE = np.matmul(W_MMSE, (H_re.conjugate()).T)\n",
    "\n",
    "# Relaxed estimation of x  \n",
    "x_tilde_zf = np.matmul(W_zf, y) \n",
    "x_tilde_mmse = np.matmul(W_MMSE, y) \n",
    "\n",
    "\n",
    "# real to complex representation to detect symbol\n",
    "x_tilde_zf = x_tilde_zf[:K] + 1j * x_tilde_zf[K:]\n",
    "x_tilde_mmse = x_tilde_mmse[:K] + 1j * x_tilde_mmse[K:]\n",
    "\n",
    "# detection within each users (symbol-by-symbol)\n",
    "compare = np.abs(x_tilde_zf - constellation_points)\n",
    "det_by_idx = np.argmin(compare, axis=1) \n",
    "x_hat_zf = np.take(constellation_points, det_by_idx).reshape(x_tilde_zf.shape)\n",
    "\n",
    "compare = np.abs(x_tilde_mmse - constellation_points)\n",
    "det_by_idx = np.argmin(compare, axis=1) \n",
    "x_hat_mmse = np.take(constellation_points, det_by_idx).reshape(x_tilde_mmse.shape) \n",
    "\n",
    "# Compare \n",
    "np.isclose(x, x_hat_zf), np.isclose(x, x_hat_mmse)\n",
    "\n",
    "\n",
    "\n"
   ]
  },
  {
   "cell_type": "code",
   "execution_count": 69,
   "metadata": {},
   "outputs": [
    {
     "data": {
      "text/plain": [
       "(10000, 8, 8)"
      ]
     },
     "execution_count": 69,
     "metadata": {},
     "output_type": "execute_result"
    }
   ],
   "source": [
    "nnnn = np.matmul((H_re.conjugate()).transpose(0, 2, 1), H_re) + np.eye(8) * np.ones((10000, 8, 8))\n",
    "nnnn.shape\n",
    "# (H_re.conjugate()).transpose((2, 0, 1)).shape\n",
    "# (np.eye(3) * np.ones((10, 3, 3))).shape"
   ]
  },
  {
   "cell_type": "markdown",
   "metadata": {},
   "source": [
    "## MIMO receiver with 1-bit-ADC (Linear Receiver) with N time transmission "
   ]
  },
  {
   "cell_type": "code",
   "execution_count": 79,
   "metadata": {},
   "outputs": [
    {
     "name": "stdout",
     "output_type": "stream",
     "text": [
      "snr:  0 ser (zf):  0.018199999999999994      |     ser(mmse):  0.017249999999999988\n",
      "snr:  5 ser (zf):  0.0020000000000000018      |     ser(mmse):  0.0019000000000000128\n",
      "snr:  10 ser (zf):  0.0006500000000000394      |     ser(mmse):  0.0006000000000000449\n",
      "snr:  15 ser (zf):  0.0007500000000000284      |     ser(mmse):  0.0007500000000000284\n",
      "snr:  20 ser (zf):  0.0005500000000000504      |     ser(mmse):  0.0004999999999999449\n",
      "snr:  25 ser (zf):  0.00044999999999995044      |     ser(mmse):  0.00034999999999996145\n"
     ]
    },
    {
     "data": {
      "image/png": "[encoded data removed]",
      "text/plain": [
       "<Figure size 432x288 with 1 Axes>"
      ]
     },
     "metadata": {
      "needs_background": "light"
     },
     "output_type": "display_data"
    }
   ],
   "source": [
    "from matplotlib.markers import MarkerStyle\n",
    "\n",
    "\n",
    "K = 2   # Number of users (transmitter antenna) \n",
    "N = 16   # Number of Receiver (Receive antenna)\n",
    "M = 4   # level of modulation (4-QAM / QPSK)\n",
    "T = int(1e4) # Total Transmission rounds \n",
    "SNR_max = 30\n",
    "\n",
    "\n",
    "def make_symbol_space(K, M, cp):\n",
    "    \"\"\"\n",
    "    Makes symbol space S = |M|^K \n",
    "    :params: \n",
    "    :   K (int) : number of users\\n\n",
    "    :   M (int) : level of modulation\\n\n",
    "    :returns:\n",
    "    :   symbol_space (np.ndarray) : symbol space S=|M|^K\n",
    "    \"\"\"\n",
    "    index_space = np.indices([M for _ in range(K)]).reshape(K, -1).T \n",
    "    symbol_space = np.take(cp, index_space)\n",
    "    return symbol_space \n",
    "\n",
    "def comp2re(H, x, z, r):\n",
    "    x_re = np.hstack((x.real, x.imag))\n",
    "    z_re = np.hstack((z.real, x.imag))\n",
    "    r_re = np.hstack((r.real, r.imag)) \n",
    "    H_re = np.block([\n",
    "        [H.real, -H.imag],\n",
    "        [H.imag, H.real]\n",
    "    ])\n",
    "    return H_re, x_re, z_re, r_re \n",
    "\n",
    "# simple constellation points (normalized)\n",
    "constellation_points = np.array([-1-1j, -1+1j, 1-1j, 1+1j])\n",
    "constellation_points /= np.sqrt(2) \n",
    "\n",
    "# make symbol space = |M|^K  in case of using ML detection \n",
    "symbol_space = make_symbol_space(K, M, cp=constellation_points) \n",
    "sers = []\n",
    "sers_mmse = []\n",
    "for snr in range(SNR_max):\n",
    "    # symbols for T timeslots\n",
    "    x = np.random.randint(0, M, size=K * T).reshape(T, K, 1) \n",
    "    x = np.take(constellation_points, x)\n",
    "\n",
    "    # Channel \n",
    "    H = (1 / np.sqrt(2)) * (np.random.randn(T, N, K) + 1j * np.random.randn(T, N, K))\n",
    "    z = (1 / np.sqrt(2)) * (np.random.randn(T, N, 1) + 1j * np.random.randn(T, N, 1))\n",
    "\n",
    "    r = np.matmul(H, x) + (10**(-snr/20)) * z \n",
    "\n",
    "    # Complex to real representation \n",
    "    H_re, x_re, z_re, r_re = comp2re(H, x, z, r) \n",
    "\n",
    "    # 1-bit ADC \n",
    "    y = np.sign(r_re) \n",
    "\n",
    "    # relaxed linear receiver \n",
    "    W_zf = np.linalg.pinv(H_re)\n",
    "    W_mmse = np.matmul((H_re.conjugate()).transpose((0, 2, 1)), H_re) + (np.eye(2 * K) * np.ones((T, 2*K, 2*K)))\n",
    "    W_mmse = np.linalg.inv(W_mmse)\n",
    "    W_mmse = np.matmul(W_mmse, (H_re.conjugate()).transpose((0, 2, 1)))\n",
    "\n",
    "    # Relaxed estimation of x  \n",
    "    x_tilde = np.matmul(W_zf, y)\n",
    "    x_tilde_mmse = np.matmul(W_mmse, y)\n",
    "        \n",
    "    # real to complex representation to detect symbol\n",
    "    x_tilde = x_tilde[:, :K] + 1j * x_tilde[:, K:]\n",
    "    x_tilde_mmse = x_tilde_mmse[:, :K] + 1j * x_tilde_mmse[:, K:]\n",
    "\n",
    "    # detection within each users (symbol-by-symbol)\n",
    "    compare = np.abs(x_tilde - constellation_points)\n",
    "    det_by_idx = np.argmin(compare, axis=-1) \n",
    "    x_hat = np.take(constellation_points, det_by_idx).reshape(x_tilde.shape)\n",
    "\n",
    "    compare = np.abs(x_tilde_mmse - constellation_points)\n",
    "    det_by_idx = np.argmin(compare, axis=-1)\n",
    "    x_hat_mmse = np.take(constellation_points, det_by_idx).reshape(x_tilde_mmse.shape) \n",
    "\n",
    "    # Compare \n",
    "    ser = 1-np.sum(np.isclose(x, x_hat)) / (T * K)\n",
    "    ser_mmse = 1-np.sum(np.isclose(x, x_hat_mmse)) / (T*K)\n",
    "\n",
    "    if snr % 5 == 0:\n",
    "        print(\"snr: \", snr, \"ser (zf): \", ser, \"     |     ser(mmse): \", ser_mmse)\n",
    "    sers.append(ser)\n",
    "    sers_mmse.append(ser_mmse)\n",
    "\n",
    "\n",
    "\n",
    "plt.figure()\n",
    "plt.semilogy(sers, '-b*', linewidth=1, label='ZF') \n",
    "plt.semilogy(sers_mmse, '--bo', linewidth=1, label='MMSE')\n",
    "plt.grid() \n",
    "plt.legend()\n",
    "plt.show()\n"
   ]
  },
  {
   "cell_type": "markdown",
   "metadata": {},
   "source": [
    "## MIMO receiver with 1-bit-ADC (Linear Receiver) with N time transmission \n",
    "### monte-carlo simulation"
   ]
  },
  {
   "cell_type": "code",
   "execution_count": 92,
   "metadata": {},
   "outputs": [
    {
     "name": "stdout",
     "output_type": "stream",
     "text": [
      "____________________________________________________________________________________________________\n",
      "trial :  0\n",
      "snr:  -5 ser(zf):  0.11175000000000002    |   ser(mmse):  0.1441\n",
      "snr:  0 ser(zf):  0.01805000000000001    |   ser(mmse):  0.01805000000000001\n",
      "snr:  5 ser(zf):  0.003249999999999975    |   ser(mmse):  0.003049999999999997\n",
      "snr:  10 ser(zf):  0.0008000000000000229    |   ser(mmse):  0.0007500000000000284\n",
      "snr:  15 ser(zf):  0.00034999999999996145    |   ser(mmse):  0.0006000000000000449\n",
      "snr:  20 ser(zf):  0.00029999999999996696    |   ser(mmse):  0.0006500000000000394\n",
      "snr:  25 ser(zf):  0.00044999999999995044    |   ser(mmse):  0.0010999999999999899\n",
      "____________________________________________________________________________________________________\n",
      "trial :  1\n",
      "snr:  -5 ser(zf):  0.11724999999999997    |   ser(mmse):  0.1491\n",
      "snr:  0 ser(zf):  0.01924999999999999    |   ser(mmse):  0.01924999999999999\n",
      "snr:  5 ser(zf):  0.0029000000000000137    |   ser(mmse):  0.0022499999999999742\n",
      "snr:  10 ser(zf):  0.0010999999999999899    |   ser(mmse):  0.0006500000000000394\n",
      "snr:  15 ser(zf):  0.0011999999999999789    |   ser(mmse):  0.0010999999999999899\n",
      "snr:  20 ser(zf):  0.0004999999999999449    |   ser(mmse):  0.0009500000000000064\n",
      "snr:  25 ser(zf):  0.0004999999999999449    |   ser(mmse):  0.0007500000000000284\n",
      "____________________________________________________________________________________________________\n",
      "trial :  2\n",
      "snr:  -5 ser(zf):  0.11929999999999996    |   ser(mmse):  0.14944999999999997\n",
      "snr:  0 ser(zf):  0.019499999999999962    |   ser(mmse):  0.019499999999999962\n",
      "snr:  5 ser(zf):  0.0023999999999999577    |   ser(mmse):  0.0022499999999999742\n",
      "snr:  10 ser(zf):  0.0007500000000000284    |   ser(mmse):  0.0009500000000000064\n",
      "snr:  15 ser(zf):  0.0005500000000000504    |   ser(mmse):  0.0006500000000000394\n",
      "snr:  20 ser(zf):  0.00039999999999995595    |   ser(mmse):  0.0010499999999999954\n",
      "snr:  25 ser(zf):  0.00034999999999996145    |   ser(mmse):  0.0008500000000000174\n",
      "____________________________________________________________________________________________________\n",
      "trial :  3\n",
      "snr:  -5 ser(zf):  0.11755000000000004    |   ser(mmse):  0.14844999999999997\n",
      "snr:  0 ser(zf):  0.018650000000000055    |   ser(mmse):  0.018650000000000055\n",
      "snr:  5 ser(zf):  0.0025500000000000522    |   ser(mmse):  0.0018500000000000183\n",
      "snr:  10 ser(zf):  0.0008500000000000174    |   ser(mmse):  0.0008000000000000229\n",
      "snr:  15 ser(zf):  0.0004999999999999449    |   ser(mmse):  0.0009000000000000119\n",
      "snr:  20 ser(zf):  0.00034999999999996145    |   ser(mmse):  0.0006000000000000449\n",
      "snr:  25 ser(zf):  0.0005500000000000504    |   ser(mmse):  0.0010499999999999954\n",
      "____________________________________________________________________________________________________\n",
      "trial :  4\n",
      "snr:  -5 ser(zf):  0.11475000000000002    |   ser(mmse):  0.14415\n",
      "snr:  0 ser(zf):  0.01770000000000005    |   ser(mmse):  0.01770000000000005\n",
      "snr:  5 ser(zf):  0.0032999999999999696    |   ser(mmse):  0.0030999999999999917\n",
      "snr:  10 ser(zf):  0.0004999999999999449    |   ser(mmse):  0.0006000000000000449\n",
      "snr:  15 ser(zf):  0.00039999999999995595    |   ser(mmse):  0.00044999999999995044\n",
      "snr:  20 ser(zf):  0.00044999999999995044    |   ser(mmse):  0.0012499999999999734\n",
      "snr:  25 ser(zf):  0.00039999999999995595    |   ser(mmse):  0.0008500000000000174\n",
      "____________________________________________________________________________________________________\n",
      "trial :  5\n",
      "snr:  -5 ser(zf):  0.11304999999999998    |   ser(mmse):  0.14059999999999995\n",
      "snr:  0 ser(zf):  0.019950000000000023    |   ser(mmse):  0.019950000000000023\n",
      "snr:  5 ser(zf):  0.0028000000000000247    |   ser(mmse):  0.00275000000000003\n",
      "snr:  10 ser(zf):  0.0007000000000000339    |   ser(mmse):  0.0004999999999999449\n",
      "snr:  15 ser(zf):  0.0005500000000000504    |   ser(mmse):  0.0006500000000000394\n",
      "snr:  20 ser(zf):  0.0006500000000000394    |   ser(mmse):  0.0006500000000000394\n",
      "snr:  25 ser(zf):  0.00034999999999996145    |   ser(mmse):  0.0010000000000000009\n",
      "____________________________________________________________________________________________________\n",
      "trial :  6\n",
      "snr:  -5 ser(zf):  0.11460000000000004    |   ser(mmse):  0.14759999999999995\n",
      "snr:  0 ser(zf):  0.018000000000000016    |   ser(mmse):  0.018000000000000016\n",
      "snr:  5 ser(zf):  0.0029000000000000137    |   ser(mmse):  0.0022499999999999742\n",
      "snr:  10 ser(zf):  0.0008500000000000174    |   ser(mmse):  0.0006500000000000394\n",
      "snr:  15 ser(zf):  0.0008500000000000174    |   ser(mmse):  0.0009500000000000064\n",
      "snr:  20 ser(zf):  0.0006500000000000394    |   ser(mmse):  0.0005500000000000504\n",
      "snr:  25 ser(zf):  0.00039999999999995595    |   ser(mmse):  0.0012499999999999734\n",
      "____________________________________________________________________________________________________\n",
      "trial :  7\n",
      "snr:  -5 ser(zf):  0.11645000000000005    |   ser(mmse):  0.14615\n",
      "snr:  0 ser(zf):  0.01905000000000001    |   ser(mmse):  0.01905000000000001\n",
      "snr:  5 ser(zf):  0.0020499999999999963    |   ser(mmse):  0.0020000000000000018\n",
      "snr:  10 ser(zf):  0.0008000000000000229    |   ser(mmse):  0.0007500000000000284\n",
      "snr:  15 ser(zf):  0.00044999999999995044    |   ser(mmse):  0.0004999999999999449\n",
      "snr:  20 ser(zf):  0.00044999999999995044    |   ser(mmse):  0.0007500000000000284\n",
      "snr:  25 ser(zf):  0.00029999999999996696    |   ser(mmse):  0.0008000000000000229\n",
      "____________________________________________________________________________________________________\n",
      "trial :  8\n",
      "snr:  -5 ser(zf):  0.11329999999999996    |   ser(mmse):  0.14275000000000004\n",
      "snr:  0 ser(zf):  0.01924999999999999    |   ser(mmse):  0.01924999999999999\n",
      "snr:  5 ser(zf):  0.00275000000000003    |   ser(mmse):  0.00275000000000003\n",
      "snr:  10 ser(zf):  0.0008500000000000174    |   ser(mmse):  0.0004999999999999449\n",
      "snr:  15 ser(zf):  0.0004999999999999449    |   ser(mmse):  0.0006500000000000394\n",
      "snr:  20 ser(zf):  0.0005500000000000504    |   ser(mmse):  0.0004999999999999449\n",
      "snr:  25 ser(zf):  0.00019999999999997797    |   ser(mmse):  0.0009500000000000064\n",
      "____________________________________________________________________________________________________\n",
      "trial :  9\n",
      "snr:  -5 ser(zf):  0.11765000000000003    |   ser(mmse):  0.14495000000000002\n",
      "snr:  0 ser(zf):  0.017349999999999977    |   ser(mmse):  0.017349999999999977\n",
      "snr:  5 ser(zf):  0.0022499999999999742    |   ser(mmse):  0.0019000000000000128\n",
      "snr:  10 ser(zf):  0.0009000000000000119    |   ser(mmse):  0.0006000000000000449\n",
      "snr:  15 ser(zf):  0.00014999999999998348    |   ser(mmse):  0.00034999999999996145\n",
      "snr:  20 ser(zf):  0.00044999999999995044    |   ser(mmse):  0.0004999999999999449\n",
      "snr:  25 ser(zf):  0.00039999999999995595    |   ser(mmse):  0.0010499999999999954\n"
     ]
    },
    {
     "data": {
      "image/png": "[encoded data removed]",
      "text/plain": [
       "<Figure size 864x576 with 1 Axes>"
      ]
     },
     "metadata": {
      "needs_background": "light"
     },
     "output_type": "display_data"
    }
   ],
   "source": [
    "K = 2   # Number of users (transmitter antenna) \n",
    "N = 16   # Number of Receiver (Receive antenna)\n",
    "M = 4   # level of modulation (4-QAM / QPSK)\n",
    "T = int(1e4) # Total Transmission rounds \n",
    "SNR_max = 30\n",
    "\n",
    "\n",
    "def make_symbol_space(K, M, cp):\n",
    "    \"\"\"\n",
    "    Makes symbol space S = |M|^K \n",
    "    :params: \n",
    "    :   K (int) : number of users\\n\n",
    "    :   M (int) : level of modulation\\n\n",
    "    :returns:\n",
    "    :   symbol_space (np.ndarray) : symbol space S=|M|^K\n",
    "    \"\"\"\n",
    "    index_space = np.indices([M for _ in range(K)]).reshape(K, -1).T \n",
    "    symbol_space = np.take(cp, index_space)\n",
    "    return symbol_space \n",
    "\n",
    "def comp2re(H, x, z, r):\n",
    "    x_re = np.hstack((x.real, x.imag))\n",
    "    z_re = np.hstack((z.real, x.imag))\n",
    "    r_re = np.hstack((r.real, r.imag)) \n",
    "    H_re = np.block([\n",
    "        [H.real, -H.imag],\n",
    "        [H.imag, H.real]\n",
    "    ])\n",
    "    return H_re, x_re, z_re, r_re \n",
    "\n",
    "# simple constellation points (normalized)\n",
    "constellation_points = np.array([-1-1j, -1+1j, 1-1j, 1+1j])\n",
    "constellation_points /= np.sqrt(2) \n",
    "\n",
    "# make symbol space = |M|^K  in case of using ML detection \n",
    "symbol_space = make_symbol_space(K, M, cp=constellation_points) \n",
    "\n",
    "sers_avg_zf = np.zeros((SNR_max+5))\n",
    "sers_avg_mmse = np.zeros((SNR_max+5))\n",
    "trials = 10\n",
    "for t in range(trials):\n",
    "    sers_zf = []\n",
    "    sers_mmse = []\n",
    "    print(\"_\" * 100) \n",
    "    print(\"trial : \", t)\n",
    "    for snr in range(-5, SNR_max):\n",
    "        # symbols for T timeslots\n",
    "        x = np.random.randint(0, M, size=K * T).reshape(T, K, 1) \n",
    "        x = np.take(constellation_points, x)\n",
    "\n",
    "        # Channel \n",
    "        H = (1 / np.sqrt(2)) * (np.random.randn(T, N, K) + 1j * np.random.randn(T, N, K))\n",
    "        z = (1 / np.sqrt(2)) * (np.random.randn(T, N, 1) + 1j * np.random.randn(T, N, 1))\n",
    "\n",
    "        r = np.matmul(H, x) + (10**(-snr/20)) * z \n",
    "\n",
    "        # Complex to real representation \n",
    "        H_re, x_re, z_re, r_re = comp2re(H, x, z, r) \n",
    "\n",
    "        # 1-bit ADC \n",
    "        y = np.sign(r_re) \n",
    "\n",
    "        # relaxed linear receiver \n",
    "        W_zf = np.linalg.pinv(H_re)\n",
    "        W_MMSE = np.matmul((H_re.conjugate()).transpose(0, 2, 1), H_re) + np.eye(2 * K) * np.ones(shape=(T, 2*K, 2*K)) * snr\n",
    "        W_MMSE = np.linalg.inv(W_MMSE) \n",
    "        W_MMSE = np.matmul(W_MMSE, (H_re.conjugate()).transpose(0, 2, 1))\n",
    "\n",
    "        # Relaxed estimation of x  \n",
    "        x_tilde_zf = np.matmul(W_zf, y)\n",
    "        x_tilde_mmse = np.matmul(W_MMSE, y) \n",
    "         \n",
    "        # real to complex representation to detect symbol\n",
    "        x_tilde_zf = x_tilde_zf[:, :K] + 1j * x_tilde_zf[:, K:]\n",
    "        x_tilde_mmse = x_tilde_mmse[:, :K] + 1j * x_tilde_mmse[:, K:]\n",
    "\n",
    "        # detection within each users (symbol-by-symbol)\n",
    "        compare = np.abs(x_tilde_zf - constellation_points)\n",
    "        det_by_idx = np.argmin(compare, axis=-1) \n",
    "        x_hat_zf = np.take(constellation_points, det_by_idx).reshape(x_tilde_zf.shape)\n",
    "\n",
    "        compare = np.abs(x_tilde_mmse - constellation_points)\n",
    "        det_by_idx = np.argmin(compare, axis=-1) \n",
    "        x_hat_mmse = np.take(constellation_points, det_by_idx).reshape(x_tilde_mmse.shape) \n",
    "\n",
    "        # Compare \n",
    "        ser_zf = 1-np.sum(np.isclose(x, x_hat_zf)) / (T * K)\n",
    "        ser_mmse = 1-np.sum(np.isclose(x, x_hat_mmse)) / (T * K)\n",
    "\n",
    "        if snr % 5 == 0:\n",
    "            print(f\"snr: \", snr, \"ser(zf): \", ser_zf, \"   |   ser(mmse): \", ser_mmse)\n",
    "        sers_zf.append(ser_zf)\n",
    "        sers_mmse.append(ser_mmse) \n",
    "\n",
    "    sers_avg_zf += np.array(sers_zf)\n",
    "    sers_avg_mmse += np.array(sers_mmse)\n",
    "\n",
    "sers_avg_zf /= trials\n",
    "sers_avg_mmse /= trials\n",
    "\n",
    "plt.figure(figsize=(12, 8))\n",
    "plt.semilogy(sers_avg_zf, '--r', linewidth=0.3, label='ZF')\n",
    "plt.semilogy(sers_avg_mmse, '-r*', linewidth=0.3, label='MMSE') \n",
    "plt.grid()\n",
    "plt.legend()\n",
    "plt.show()\n",
    "\n",
    "\n",
    "\n"
   ]
  },
  {
   "cell_type": "code",
   "execution_count": 90,
   "metadata": {},
   "outputs": [
    {
     "data": {
      "image/png": "[encoded data removed]",
      "text/plain": [
       "<Figure size 864x576 with 1 Axes>"
      ]
     },
     "metadata": {
      "needs_background": "light"
     },
     "output_type": "display_data"
    }
   ],
   "source": [
    "\n",
    "plt.figure(figsize=(12, 8))\n",
    "plt.semilogy(sers_avg_zf, '--r', linewidth=0.3, label='ZF')\n",
    "plt.semilogy(sers_avg_mmse, '-r*', linewidth=0.3, label='MMSE') \n",
    "plt.yticks([1e-1, 1e-2, 1e-3, 1e-4, 1e-5])\n",
    "plt.grid()\n",
    "plt.legend()\n",
    "plt.show()"
   ]
  },
  {
   "cell_type": "code",
   "execution_count": 7,
   "metadata": {},
   "outputs": [
    {
     "data": {
      "image/png": "[encoded data removed]",
      "text/plain": [
       "<Figure size 432x288 with 1 Axes>"
      ]
     },
     "metadata": {
      "needs_background": "light"
     },
     "output_type": "display_data"
    }
   ],
   "source": [
    "sers_avg_squeezed_loaded = np.load(\"./results/sers_avg_1_bit_zero_forcing.npy\") \n",
    "sers_avg_real = np.load(\"./results/sers_avg_conventional_zero_forcing.npy\")\n",
    "plt.semilogy(sers_avg_squeezed_loaded / 100) \n",
    "plt.semilogy(sers_avg_real)\n",
    "plt.show()"
   ]
  },
  {
   "cell_type": "code",
   "execution_count": null,
   "metadata": {},
   "outputs": [],
   "source": []
  }
 ],
 "metadata": {
  "kernelspec": {
   "display_name": "Python 3.7.0 ('learning')",
   "language": "python",
   "name": "python3"
  },
  "language_info": {
   "codemirror_mode": {
    "name": "ipython",
    "version": 3
   },
   "file_extension": ".py",
   "mimetype": "text/x-python",
   "name": "python",
   "nbconvert_exporter": "python",
   "pygments_lexer": "ipython3",
   "version": "3.7.0"
  },
  "orig_nbformat": 4,
  "vscode": {
   "interpreter": {
    "hash": "7ab57b40917d2668bbbeeb6dcb0f927fae8d33b10a6538581e5b2008fa03fdfe"
   }
  }
 },
 "nbformat": 4,
 "nbformat_minor": 2
}
