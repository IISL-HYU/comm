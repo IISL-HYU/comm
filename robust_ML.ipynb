{
 "cells": [
  {
   "cell_type": "code",
   "execution_count": 1,
   "metadata": {},
   "outputs": [],
   "source": [
    "import numpy as np \n",
    "import matplotlib.pyplot as plt \n",
    "from core.core import * \n",
    "from util.detector import * \n",
    "from util.estimator import * \n",
    "from util.modem import * "
   ]
  },
  {
   "cell_type": "code",
   "execution_count": 3,
   "metadata": {},
   "outputs": [],
   "source": [
    "def ml(y_re, H_re, symbol_space, snr_dB):\n",
    "    \"\"\"\n",
    "    Maximum Likelihood detection for KxN mu-MIMO channel (uses Gaussian distribution) \n",
    "    \"\"\"\n",
    "    # complex to real and then reshape for broadcast\n",
    "    snr = 10**(snr_dB/20)\n",
    "    T = H_re.shape[0]\n",
    "    K = H_re.shape[-1] // 2\n",
    "    M = int(symbol_space.shape[0] ** (1/K))\n",
    "    x_shape = tuple([T, K, 1])\n",
    "    symbol_space_re = np.hstack((symbol_space.real, symbol_space.imag)) * np.ones(shape=(T, M**K, 2*K))\n",
    "    likelihood = phi(np.matmul(symbol_space_re, H_re.transpose(0, 2, 1)) * y_re.transpose(0, 2, 1) * np.sqrt(2 * snr))\n",
    "    log_likelihood = np.sum(np.log(likelihood), axis=2)\n",
    "    x_hat_idx = np.argmax(log_likelihood, axis=1)\n",
    "    x_hat_ML = np.take(symbol_space, x_hat_idx, axis=0)\n",
    "    x_hat_ML = x_hat_ML.reshape(x_shape)\n",
    "    return x_hat_ML \n",
    "\n",
    "def make_symbol_space(K, M, cp):\n",
    "    \"\"\"\n",
    "    Makes symbol space S = |M|^K \n",
    "    :params: \n",
    "    :   K (int) : number of users\\n\n",
    "    :   M (int) : level of modulation\\n\n",
    "    :returns:\n",
    "    :   symbol_space (np.ndarray) : symbol space S=|M|^K\n",
    "    \"\"\"\n",
    "    index_space = np.indices([M for _ in range(K)]).reshape(K, -1).T \n",
    "    symbol_space = np.take(cp, index_space)\n",
    "    return symbol_space \n",
    "\n",
    "def comp2re(H, x, z, r):\n",
    "    x_re = np.hstack((x.real, x.imag))\n",
    "    z_re = np.hstack((z.real, x.imag))\n",
    "    r_re = np.hstack((r.real, r.imag)) \n",
    "    H_re = np.block([\n",
    "        [H.real, -H.imag],\n",
    "        [H.imag, H.real]\n",
    "    ])\n",
    "    return H_re, x_re, z_re, r_re \n",
    "\n",
    "def initialize(G_tilde, y_re):\n",
    "    num1 = np.matmul(G_tilde.transpose(0, 2, 1), np.ones_like(y_re))\n",
    "    denom1 = np.linalg.norm(num1, axis=1).reshape(-1, 1, 1)\n",
    "    x_init = (num1 / denom1) * np.sqrt(K)\n",
    "    return x_init\n"
   ]
  },
  {
   "cell_type": "markdown",
   "metadata": {},
   "source": [
    "# 1. Maximum Likelihood Detection for 1-bit ADC "
   ]
  },
  {
   "cell_type": "code",
   "execution_count": 15,
   "metadata": {},
   "outputs": [
    {
     "name": "stdout",
     "output_type": "stream",
     "text": [
      "Trial #0:  "
     ]
    },
    {
     "name": "stderr",
     "output_type": "stream",
     "text": [
      "/var/folders/qf/g6m74fsx51j_2q1__9zjd_5m0000gn/T/ipykernel_11336/138658605.py:13: RuntimeWarning: divide by zero encountered in log\n",
      "  log_likelihood = np.sum(np.log(likelihood), axis=2)\n"
     ]
    },
    {
     "name": "stdout",
     "output_type": "stream",
     "text": [
      "[3.1395e-01 1.0750e-01 1.4650e-02 1.3500e-03 5.0000e-05 0.0000e+00\n",
      " 0.0000e+00 0.0000e+00 0.0000e+00]\n",
      "[0. 0. 0. 0. 0. 0. 0. 0. 0.]\n",
      "Trial #1:  [3.162e-01 1.075e-01 1.265e-02 7.500e-04 1.000e-04 0.000e+00 0.000e+00\n",
      " 0.000e+00 0.000e+00]\n",
      "[3.1395e-01 1.0750e-01 1.4650e-02 1.3500e-03 5.0000e-05 0.0000e+00\n",
      " 0.0000e+00 0.0000e+00 0.0000e+00]\n",
      "Trial #2:  [3.117e-01 1.110e-01 1.235e-02 1.000e-03 5.000e-05 0.000e+00 0.000e+00\n",
      " 0.000e+00 0.000e+00]\n",
      "[6.3015e-01 2.1500e-01 2.7300e-02 2.1000e-03 1.5000e-04 0.0000e+00\n",
      " 0.0000e+00 0.0000e+00 0.0000e+00]\n",
      "Trial #3:  [3.1500e-01 1.0985e-01 1.3650e-02 9.5000e-04 1.0000e-04 0.0000e+00\n",
      " 0.0000e+00 0.0000e+00 0.0000e+00]\n",
      "[9.4185e-01 3.2600e-01 3.9650e-02 3.1000e-03 2.0000e-04 0.0000e+00\n",
      " 0.0000e+00 0.0000e+00 0.0000e+00]\n",
      "Trial #4:  [0.31615 0.1056  0.01345 0.0011  0.      0.      0.      0.      0.     ]\n",
      "[1.25685e+00 4.35850e-01 5.33000e-02 4.05000e-03 3.00000e-04 0.00000e+00\n",
      " 0.00000e+00 0.00000e+00 0.00000e+00]\n",
      "Trial #5:  [3.1785e-01 1.0585e-01 1.3100e-02 1.3500e-03 0.0000e+00 0.0000e+00\n",
      " 0.0000e+00 0.0000e+00 5.0000e-05]\n",
      "[1.5730e+00 5.4145e-01 6.6750e-02 5.1500e-03 3.0000e-04 0.0000e+00\n",
      " 0.0000e+00 0.0000e+00 0.0000e+00]\n",
      "Trial #6:  [3.1240e-01 1.0805e-01 1.3300e-02 1.0500e-03 0.0000e+00 5.0000e-05\n",
      " 0.0000e+00 0.0000e+00 0.0000e+00]\n",
      "[1.89085e+00 6.47300e-01 7.98500e-02 6.50000e-03 3.00000e-04 0.00000e+00\n",
      " 0.00000e+00 0.00000e+00 5.00000e-05]\n",
      "Trial #7:  [3.1030e-01 1.0955e-01 1.3800e-02 8.5000e-04 0.0000e+00 0.0000e+00\n",
      " 5.0000e-05 0.0000e+00 0.0000e+00]\n",
      "[2.20325e+00 7.55350e-01 9.31500e-02 7.55000e-03 3.00000e-04 5.00000e-05\n",
      " 0.00000e+00 0.00000e+00 5.00000e-05]\n",
      "Trial #8:  [3.1815e-01 1.0680e-01 1.4950e-02 6.5000e-04 0.0000e+00 0.0000e+00\n",
      " 5.0000e-05 0.0000e+00 0.0000e+00]\n",
      "[2.51355e+00 8.64900e-01 1.06950e-01 8.40000e-03 3.00000e-04 5.00000e-05\n",
      " 5.00000e-05 0.00000e+00 5.00000e-05]\n",
      "Trial #9:  [3.1755e-01 1.1210e-01 1.2950e-02 1.3000e-03 5.0000e-05 0.0000e+00\n",
      " 0.0000e+00 0.0000e+00 0.0000e+00]\n",
      "[2.8317e+00 9.7170e-01 1.2190e-01 9.0500e-03 3.0000e-04 5.0000e-05\n",
      " 1.0000e-04 0.0000e+00 5.0000e-05]\n",
      "[3.14925e-01 1.08380e-01 1.34850e-02 1.03500e-03 3.50000e-05 5.00000e-06\n",
      " 1.00000e-05 0.00000e+00 5.00000e-06]\n"
     ]
    }
   ],
   "source": [
    "trials = 10\n",
    "K = 2; N = 16; T = 10000; M = 4\n",
    "\n",
    "snr_min = -10 \n",
    "snr_max = 30 \n",
    "snr_lst = np.arange(snr_min, snr_max+1, 5)\n",
    "\n",
    "constellation_points = np.array([-1-1j, -1+1j, 1-1j, 1+1j])\n",
    "constellation_points /= np.sqrt(2) \n",
    "\n",
    "symbol_space = make_symbol_space(K, M, constellation_points)\n",
    "\n",
    "sers_avg = np.zeros(shape=(len(snr_lst), )) \n",
    "x = np.random.randint(0, M, size=K * T).reshape(T, K, 1) \n",
    "x = np.take(constellation_points, x)\n",
    "\n",
    "for t in range(trials):\n",
    "    print(f\"Trial #{t}: \", end=' ')\n",
    "    sers = []\n",
    "    for snr in snr_lst:\n",
    "        # print(f\"snr {snr}...\", end=' ')\n",
    "\n",
    "        # Channel \n",
    "        H = (1 / np.sqrt(2)) * (np.random.randn(T, N, K) + 1j * np.random.randn(T, N, K))\n",
    "        z = (1 / np.sqrt(2)) * (np.random.randn(T, N, 1) + 1j * np.random.randn(T, N, 1))\n",
    "\n",
    "        r = np.matmul(H, x) + (10**(-snr/20)) * z  \n",
    "\n",
    "        # 1-bit ADC \n",
    "        y = np.sign(r.real) + 1j * np.sign(r.imag) \n",
    "\n",
    "        H_re, x_re, z_re, y_re = comp2re(H, x, z, y)\n",
    "\n",
    "        x_hat_ML = ml(y_re=y_re, H_re=H_re, symbol_space=symbol_space, snr_dB=snr)\n",
    "\n",
    "        ser_ml = np.sum(1 - np.isclose(x_hat_ML, x)) / (T * K)\n",
    "        sers.append(ser_ml)\n",
    "\n",
    "    sers = np.array(sers)\n",
    "    print(sers)\n",
    "    print(sers_avg)\n",
    "    sers_avg += sers     \n",
    "\n",
    "sers_avg /= trials\n",
    "print(sers_avg)"
   ]
  },
  {
   "cell_type": "markdown",
   "metadata": {},
   "source": [
    "# 2. Robust ML detection for robust 1-bit ADC "
   ]
  },
  {
   "cell_type": "code",
   "execution_count": 87,
   "metadata": {},
   "outputs": [],
   "source": [
    "def sigmoid(t, c=1.702):\n",
    "    return (1 / (1 + np.exp(-1 * c * t)))\n",
    "\n",
    "def robust_ml(y_re, H_re, symbol_space, snr_dB):\n",
    "    \"\"\"\n",
    "    robust Maximum Likelihood detection for KxN mu-MIMO channel (uses sigmoid instead of Normal Distribution) \n",
    "    \"\"\"\n",
    "    # complex to real and then reshape for broadcast\n",
    "    snr = 10**(snr_dB/20)   # convert dB scale to normal scale \n",
    "\n",
    "    # get informations from the channel matrix \n",
    "    T = H_re.shape[0]\n",
    "    K = H_re.shape[-1] // 2\n",
    "    M = int(symbol_space.shape[0] ** (1/K))\n",
    "    x_shape = tuple([T, K, 1])\n",
    "\n",
    "    # real representation of symbol_space \n",
    "    symbol_space_re = np.hstack((symbol_space.real, symbol_space.imag)) * np.ones(shape=(T, M**K, 2*K))\n",
    "\n",
    "    # Compute the Log-likelihood \n",
    "    likelihood = sigmoid(np.matmul(symbol_space_re, H_re.transpose(0, 2, 1)) * y_re.transpose(0, 2, 1) * np.sqrt(2 * snr))\n",
    "    log_likelihood = np.sum(np.log(likelihood), axis=2)\n",
    "\n",
    "    # pick symbol from the symbol space which maximizes the Likelihood \n",
    "    x_hat_idx = np.argmax(log_likelihood, axis=1)\n",
    "    x_hat_rML = np.take(symbol_space, x_hat_idx, axis=0)\n",
    "    x_hat_rML = x_hat_rML.reshape(x_shape)\n",
    "    return x_hat_rML "
   ]
  },
  {
   "cell_type": "code",
   "execution_count": 98,
   "metadata": {},
   "outputs": [
    {
     "name": "stdout",
     "output_type": "stream",
     "text": [
      "Trial 0 ... "
     ]
    },
    {
     "name": "stderr",
     "output_type": "stream",
     "text": [
      "/var/folders/qf/g6m74fsx51j_2q1__9zjd_5m0000gn/T/ipykernel_11336/138658605.py:13: RuntimeWarning: divide by zero encountered in log\n",
      "  log_likelihood = np.sum(np.log(likelihood), axis=2)\n"
     ]
    },
    {
     "name": "stdout",
     "output_type": "stream",
     "text": [
      "[3.16645e-01 1.07435e-01 1.39950e-02 8.20000e-04 3.50000e-05 1.00000e-05\n",
      " 0.00000e+00 5.00000e-06 0.00000e+00]\n",
      "Trial 1 ... "
     ]
    },
    {
     "ename": "KeyboardInterrupt",
     "evalue": "",
     "output_type": "error",
     "traceback": [
      "\u001b[0;31m---------------------------------------------------------------------------\u001b[0m",
      "\u001b[0;31mKeyboardInterrupt\u001b[0m                         Traceback (most recent call last)",
      "\u001b[1;32m/Users/sungweon-hong/Projects/comm/robust_ML.ipynb Cell 7\u001b[0m in \u001b[0;36m<cell line: 17>\u001b[0;34m()\u001b[0m\n\u001b[1;32m     <a href='vscode-notebook-cell:/Users/sungweon-hong/Projects/comm/robust_ML.ipynb#W6sZmlsZQ%3D%3D?line=29'>30</a>\u001b[0m y \u001b[39m=\u001b[39m np\u001b[39m.\u001b[39msign(r\u001b[39m.\u001b[39mreal) \u001b[39m+\u001b[39m \u001b[39m1\u001b[39mj \u001b[39m*\u001b[39m np\u001b[39m.\u001b[39msign(r\u001b[39m.\u001b[39mimag) \n\u001b[1;32m     <a href='vscode-notebook-cell:/Users/sungweon-hong/Projects/comm/robust_ML.ipynb#W6sZmlsZQ%3D%3D?line=31'>32</a>\u001b[0m H_re, x_re, z_re, y_re \u001b[39m=\u001b[39m comp2re(H, x, z, y)\n\u001b[0;32m---> <a href='vscode-notebook-cell:/Users/sungweon-hong/Projects/comm/robust_ML.ipynb#W6sZmlsZQ%3D%3D?line=33'>34</a>\u001b[0m x_hat_ML \u001b[39m=\u001b[39m ml(y_re, H_re, symbol_space, snr)\n\u001b[1;32m     <a href='vscode-notebook-cell:/Users/sungweon-hong/Projects/comm/robust_ML.ipynb#W6sZmlsZQ%3D%3D?line=34'>35</a>\u001b[0m x_hat_rML \u001b[39m=\u001b[39m robust_ml(y_re\u001b[39m=\u001b[39my_re, H_re\u001b[39m=\u001b[39mH_re, symbol_space\u001b[39m=\u001b[39msymbol_space, snr_dB\u001b[39m=\u001b[39msnr)\n\u001b[1;32m     <a href='vscode-notebook-cell:/Users/sungweon-hong/Projects/comm/robust_ML.ipynb#W6sZmlsZQ%3D%3D?line=35'>36</a>\u001b[0m ser_ml \u001b[39m=\u001b[39m np\u001b[39m.\u001b[39msum(\u001b[39m1\u001b[39m \u001b[39m-\u001b[39m np\u001b[39m.\u001b[39misclose(x_hat_ML, x)) \u001b[39m/\u001b[39m (T \u001b[39m*\u001b[39m K)\n",
      "\u001b[1;32m/Users/sungweon-hong/Projects/comm/robust_ML.ipynb Cell 7\u001b[0m in \u001b[0;36mml\u001b[0;34m(y_re, H_re, symbol_space, snr_dB)\u001b[0m\n\u001b[1;32m     <a href='vscode-notebook-cell:/Users/sungweon-hong/Projects/comm/robust_ML.ipynb#W6sZmlsZQ%3D%3D?line=9'>10</a>\u001b[0m x_shape \u001b[39m=\u001b[39m \u001b[39mtuple\u001b[39m([T, K, \u001b[39m1\u001b[39m])\n\u001b[1;32m     <a href='vscode-notebook-cell:/Users/sungweon-hong/Projects/comm/robust_ML.ipynb#W6sZmlsZQ%3D%3D?line=10'>11</a>\u001b[0m symbol_space_re \u001b[39m=\u001b[39m np\u001b[39m.\u001b[39mhstack((symbol_space\u001b[39m.\u001b[39mreal, symbol_space\u001b[39m.\u001b[39mimag)) \u001b[39m*\u001b[39m np\u001b[39m.\u001b[39mones(shape\u001b[39m=\u001b[39m(T, M\u001b[39m*\u001b[39m\u001b[39m*\u001b[39mK, \u001b[39m2\u001b[39m\u001b[39m*\u001b[39mK))\n\u001b[0;32m---> <a href='vscode-notebook-cell:/Users/sungweon-hong/Projects/comm/robust_ML.ipynb#W6sZmlsZQ%3D%3D?line=11'>12</a>\u001b[0m likelihood \u001b[39m=\u001b[39m phi(np\u001b[39m.\u001b[39;49mmatmul(symbol_space_re, H_re\u001b[39m.\u001b[39;49mtranspose(\u001b[39m0\u001b[39;49m, \u001b[39m2\u001b[39;49m, \u001b[39m1\u001b[39;49m)) \u001b[39m*\u001b[39;49m y_re\u001b[39m.\u001b[39;49mtranspose(\u001b[39m0\u001b[39;49m, \u001b[39m2\u001b[39;49m, \u001b[39m1\u001b[39;49m) \u001b[39m*\u001b[39;49m np\u001b[39m.\u001b[39;49msqrt(\u001b[39m2\u001b[39;49m \u001b[39m*\u001b[39;49m snr))\n\u001b[1;32m     <a href='vscode-notebook-cell:/Users/sungweon-hong/Projects/comm/robust_ML.ipynb#W6sZmlsZQ%3D%3D?line=12'>13</a>\u001b[0m log_likelihood \u001b[39m=\u001b[39m np\u001b[39m.\u001b[39msum(np\u001b[39m.\u001b[39mlog(likelihood), axis\u001b[39m=\u001b[39m\u001b[39m2\u001b[39m)\n\u001b[1;32m     <a href='vscode-notebook-cell:/Users/sungweon-hong/Projects/comm/robust_ML.ipynb#W6sZmlsZQ%3D%3D?line=13'>14</a>\u001b[0m x_hat_idx \u001b[39m=\u001b[39m np\u001b[39m.\u001b[39margmax(log_likelihood, axis\u001b[39m=\u001b[39m\u001b[39m1\u001b[39m)\n",
      "File \u001b[0;32m~/Projects/comm/core/core.py:26\u001b[0m, in \u001b[0;36mphi\u001b[0;34m(z)\u001b[0m\n\u001b[1;32m     22\u001b[0m \u001b[39mdef\u001b[39;00m \u001b[39mphi\u001b[39m(z: np\u001b[39m.\u001b[39mndarray):\n\u001b[1;32m     23\u001b[0m     \u001b[39m\"\"\"\u001b[39;00m\n\u001b[1;32m     24\u001b[0m \u001b[39m    CDF of normal distribution\u001b[39;00m\n\u001b[1;32m     25\u001b[0m \u001b[39m    \"\"\"\u001b[39;00m\n\u001b[0;32m---> 26\u001b[0m     \u001b[39mreturn\u001b[39;00m (\u001b[39m1\u001b[39m\u001b[39m/\u001b[39m\u001b[39m2\u001b[39m) \u001b[39m*\u001b[39m (\u001b[39m1\u001b[39m \u001b[39m+\u001b[39m erf(z \u001b[39m/\u001b[39;49m np\u001b[39m.\u001b[39;49msqrt(\u001b[39m2\u001b[39;49m)))\n",
      "\u001b[0;31mKeyboardInterrupt\u001b[0m: "
     ]
    }
   ],
   "source": [
    "trials = 100\n",
    "K = 2; N = 16; T = 100000; M = 4\n",
    "\n",
    "snr_min = -10 \n",
    "snr_max = 30 \n",
    "snr_lst = np.arange(snr_min, snr_max+1, 5)\n",
    "\n",
    "constellation_points = np.array([-1-1j, -1+1j, 1-1j, 1+1j])\n",
    "constellation_points /= np.sqrt(2) \n",
    "\n",
    "symbol_space = make_symbol_space(K, M, constellation_points)\n",
    "\n",
    "sers_avg = np.zeros(shape=(len(snr_lst), 2)) \n",
    "x = np.random.randint(0, M, size=K * T).reshape(T, K, 1) \n",
    "x = np.take(constellation_points, x)\n",
    "\n",
    "for t in range(trials):\n",
    "    print(\"Trial\", t, \"...\", end=' ')\n",
    "    sers = []\n",
    "    for snr in snr_lst:\n",
    "        # print(f\"snr {snr}...\", end=' ')\n",
    "\n",
    "        # Channel \n",
    "        H = (1 / np.sqrt(2)) * (np.random.randn(T, N, K) + 1j * np.random.randn(T, N, K))\n",
    "        z = (1 / np.sqrt(2)) * (np.random.randn(T, N, 1) + 1j * np.random.randn(T, N, 1))\n",
    "\n",
    "        r = np.matmul(H, x) + (10**(-snr/20)) * z  \n",
    "\n",
    "        # 1-bit ADC \n",
    "        y = np.sign(r.real) + 1j * np.sign(r.imag) \n",
    "\n",
    "        H_re, x_re, z_re, y_re = comp2re(H, x, z, y)\n",
    "\n",
    "        x_hat_ML = ml(y_re, H_re, symbol_space, snr)\n",
    "        x_hat_rML = robust_ml(y_re=y_re, H_re=H_re, symbol_space=symbol_space, snr_dB=snr)\n",
    "        ser_ml = np.sum(1 - np.isclose(x_hat_ML, x)) / (T * K)\n",
    "        ser_rml = np.sum(1 - np.isclose(x_hat_rML, x)) / (T * K)\n",
    "        # print(ser_rml)\n",
    "        sers.append([ser_ml, ser_rml])\n",
    "    sers = np.array(sers)\n",
    "    print(sers[:, 0])\n",
    "\n",
    "    sers_avg += sers     \n",
    "\n",
    "sers_avg /= trials\n",
    "# print(f\"{sers_avg[:, 0]}\")\n",
    "# print(f\"{sers_avg[:, 1]}\")\n",
    "\n"
   ]
  },
  {
   "cell_type": "code",
   "execution_count": 95,
   "metadata": {},
   "outputs": [
    {
     "data": {
      "image/png": "[encoded data removed]",
      "text/plain": [
       "<Figure size 648x576 with 1 Axes>"
      ]
     },
     "metadata": {
      "needs_background": "light"
     },
     "output_type": "display_data"
    }
   ],
   "source": [
    "plt.figure(figsize=(9, 8))\n",
    "# plt.semilogy(snr_lst[1:], results[2], '-s', )\n",
    "plt.semilogy(snr_lst, sers_avg[:, 0], '-bo', markersize=10, label='Original ML', fillstyle='none')\n",
    "plt.semilogy(snr_lst, sers_avg[:, 1], '-b*', markersize=10, label='robust ML')\n",
    "plt.xlim([-10, 30]); plt.ylim([1e-6, 1e0])\n",
    "plt.xlabel(\"SNR(dB)\", fontsize=15); plt.ylabel(\"SER\", fontsize=15); plt.title(\"Symbol-Error-Rate for nML vs ML\", fontsize=20)\n",
    "plt.grid(); plt.legend(fontsize=15)\n",
    "plt.show()"
   ]
  },
  {
   "cell_type": "code",
   "execution_count": null,
   "metadata": {},
   "outputs": [],
   "source": []
  }
 ],
 "metadata": {
  "kernelspec": {
   "display_name": "Python 3.8.13 ('tfenv')",
   "language": "python",
   "name": "python3"
  },
  "language_info": {
   "codemirror_mode": {
    "name": "ipython",
    "version": 3
   },
   "file_extension": ".py",
   "mimetype": "text/x-python",
   "name": "python",
   "nbconvert_exporter": "python",
   "pygments_lexer": "ipython3",
   "version": "3.8.13"
  },
  "orig_nbformat": 4,
  "vscode": {
   "interpreter": {
    "hash": "2f5b81e4d5ffe865455abfc95d84d12ec77a2021f6e27c6b9af31a0e77a4cf1c"
   }
  }
 },
 "nbformat": 4,
 "nbformat_minor": 2
}
