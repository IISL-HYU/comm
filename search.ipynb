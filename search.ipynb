{
 "cells": [
  {
   "cell_type": "code",
   "execution_count": 4,
   "metadata": {},
   "outputs": [],
   "source": [
    "import numpy as np\n",
    "import matplotlib.pyplot as plt \n",
    "\n",
    "from util.detector import *\n",
    "from util.estimator import *\n",
    "from bussgang_receiver import BussgangReceiver"
   ]
  },
  {
   "cell_type": "code",
   "execution_count": 5,
   "metadata": {},
   "outputs": [
    {
     "name": "stdout",
     "output_type": "stream",
     "text": [
      "____________________________________________________________________________________________________\n",
      "trial:  0\n",
      "snr:  -10 ser: 3.17e-01\n",
      "snr:  -5 ser: 1.14e-01\n",
      "snr:  0 ser: 1.96e-02\n",
      "snr:  5 ser: 1.85e-03\n",
      "snr:  10 ser: 3.50e-04\n",
      "snr:  15 ser: 1.00e-04\n",
      "snr:  20 ser: 5.00e-05\n",
      "snr:  25 ser: 0.00e+00\n",
      "snr:  30 ser: 0.00e+00\n",
      "____________________________________________________________________________________________________\n",
      "trial:  1\n",
      "snr:  -10 ser: 3.21e-01\n",
      "snr:  -5 ser: 1.13e-01\n",
      "snr:  0 ser: 1.85e-02\n",
      "snr:  5 ser: 1.90e-03\n",
      "snr:  10 ser: 2.00e-04\n",
      "snr:  15 ser: 1.50e-04\n",
      "snr:  20 ser: 1.50e-04\n",
      "snr:  25 ser: 0.00e+00\n",
      "snr:  30 ser: 1.00e-04\n",
      "____________________________________________________________________________________________________\n",
      "trial:  2\n",
      "snr:  -10 ser: 3.13e-01\n",
      "snr:  -5 ser: 1.15e-01\n",
      "snr:  0 ser: 2.02e-02\n",
      "snr:  5 ser: 1.40e-03\n",
      "snr:  10 ser: 1.00e-04\n",
      "snr:  15 ser: 1.50e-04\n",
      "snr:  20 ser: 5.00e-05\n",
      "snr:  25 ser: 5.00e-05\n",
      "snr:  30 ser: 5.00e-05\n",
      "____________________________________________________________________________________________________\n",
      "trial:  3\n",
      "snr:  -10 ser: 3.19e-01\n",
      "snr:  -5 ser: 1.18e-01\n",
      "snr:  0 ser: 1.83e-02\n",
      "snr:  5 ser: 1.95e-03\n",
      "snr:  10 ser: 1.50e-04\n",
      "snr:  15 ser: 1.00e-04\n",
      "snr:  20 ser: 5.00e-05\n",
      "snr:  25 ser: 0.00e+00\n",
      "snr:  30 ser: 0.00e+00\n",
      "____________________________________________________________________________________________________\n",
      "trial:  4\n",
      "snr:  -10 ser: 3.17e-01\n",
      "snr:  -5 ser: 1.19e-01\n",
      "snr:  0 ser: 1.90e-02\n",
      "snr:  5 ser: 2.20e-03\n",
      "snr:  10 ser: 2.50e-04\n",
      "snr:  15 ser: 1.00e-04\n",
      "snr:  20 ser: 1.50e-04\n",
      "snr:  25 ser: 1.50e-04\n",
      "snr:  30 ser: 0.00e+00\n",
      "____________________________________________________________________________________________________\n",
      "trial:  5\n",
      "snr:  -10 ser: 3.22e-01\n",
      "snr:  -5 ser: 1.13e-01\n",
      "snr:  0 ser: 1.95e-02\n",
      "snr:  5 ser: 1.35e-03\n",
      "snr:  10 ser: 2.50e-04\n",
      "snr:  15 ser: 1.50e-04\n",
      "snr:  20 ser: 5.00e-05\n",
      "snr:  25 ser: 5.00e-05\n",
      "snr:  30 ser: 5.00e-05\n",
      "____________________________________________________________________________________________________\n",
      "trial:  6\n",
      "snr:  -10 ser: 3.20e-01\n",
      "snr:  -5 ser: 1.17e-01\n",
      "snr:  0 ser: 1.93e-02\n",
      "snr:  5 ser: 1.70e-03\n",
      "snr:  10 ser: 5.00e-04\n",
      "snr:  15 ser: 5.00e-05\n",
      "snr:  20 ser: 5.00e-05\n",
      "snr:  25 ser: 1.00e-04\n",
      "snr:  30 ser: 5.00e-05\n",
      "____________________________________________________________________________________________________\n",
      "trial:  7\n",
      "snr:  -10 ser: 3.17e-01\n",
      "snr:  -5 ser: 1.17e-01\n",
      "snr:  0 ser: 1.84e-02\n",
      "snr:  5 ser: 1.50e-03\n",
      "snr:  10 ser: 5.00e-04\n",
      "snr:  15 ser: 5.00e-05\n",
      "snr:  20 ser: 1.00e-04\n",
      "snr:  25 ser: 2.00e-04\n",
      "snr:  30 ser: 1.50e-04\n",
      "____________________________________________________________________________________________________\n",
      "trial:  8\n",
      "snr:  -10 ser: 3.10e-01\n",
      "snr:  -5 ser: 1.15e-01\n",
      "snr:  0 ser: 1.93e-02\n",
      "snr:  5 ser: 2.15e-03\n",
      "snr:  10 ser: 2.50e-04\n",
      "snr:  15 ser: 1.50e-04\n",
      "snr:  20 ser: 1.50e-04\n",
      "snr:  25 ser: 1.00e-04\n",
      "snr:  30 ser: 5.00e-05\n",
      "____________________________________________________________________________________________________\n",
      "trial:  9\n",
      "snr:  -10 ser: 3.17e-01\n",
      "snr:  -5 ser: 1.16e-01\n",
      "snr:  0 ser: 1.94e-02\n",
      "snr:  5 ser: 2.00e-03\n",
      "snr:  10 ser: 5.00e-05\n",
      "snr:  15 ser: 2.00e-04\n",
      "snr:  20 ser: 2.00e-04\n",
      "snr:  25 ser: 0.00e+00\n",
      "snr:  30 ser: 0.00e+00\n"
     ]
    },
    {
     "data": {
      "image/png": "[encoded data removed]",
      "text/plain": [
       "<Figure size 648x576 with 1 Axes>"
      ]
     },
     "metadata": {
      "needs_background": "light"
     },
     "output_type": "display_data"
    }
   ],
   "source": [
    "save_dir = './results/'\n",
    "hparam_config = dict() \n",
    "hparam_config[\"K\"] = 2\n",
    "hparam_config[\"N\"] = 16\n",
    "hparam_config[\"M\"] = 4 \n",
    "hparam_config[\"T\"] = int(1e4)\n",
    "hparam_config[\"snr_min\"] = -10\n",
    "hparam_config[\"snr_max\"] = 30\n",
    "hparam_config[\"estimator\"] = zf\n",
    "hparam_config[\"detector\"] = symbol_by_symbol\n",
    "bzf_receiver = BussgangReceiver(hparam_config=hparam_config)\n",
    "\n",
    "sers_avg_zf = np.zeros_like(bzf_receiver.snr_list, dtype=np.float64)\n",
    "sers_avg_zf += bzf_receiver.run(trials=10, verbose=2) \n",
    "\n",
    "np.save(save_dir + 'sers_avg_bzf.npy', sers_avg_zf[:-1])\n",
    "\n",
    "plt.figure(figsize=(9, 8))\n",
    "plt.semilogy(bzf_receiver.snr_list, sers_avg_zf, '-ko', label='BZF', markersize=12, fillstyle='none')\n",
    "\n",
    "plt.grid()\n",
    "plt.legend()\n",
    "plt.xlabel(\"SNR\")\n",
    "plt.ylabel(\"SER\")\n",
    "plt.title(\"symbol error rate\")\n",
    "plt.yticks([1e-0, 1e-1, 1e-2, 1e-3, 1e-4, 1e-5])\n",
    "plt.show()\n",
    "    "
   ]
  },
  {
   "cell_type": "code",
   "execution_count": 6,
   "metadata": {},
   "outputs": [],
   "source": [
    "def symbol_by_symbol(x_tilde, constellation_points):\n",
    "    \"\"\"\n",
    "    symbol-by-symbol detection with respect to each antenna: \n",
    "    can be used when relaxation and estimation is preceded (1-bit-ADC case) \n",
    "    \"\"\"\n",
    "    compare = np.abs(x_tilde - constellation_points)\n",
    "    det_by_idx = np.argmin(compare, axis=-1)\n",
    "    x_hat = np.take(constellation_points, det_by_idx).reshape(x_tilde.shape)\n",
    "    return x_hat"
   ]
  },
  {
   "cell_type": "code",
   "execution_count": 284,
   "metadata": {},
   "outputs": [],
   "source": [
    "def ml(y_re, H_re, symbol_space, snr_dB):\n",
    "    \"\"\"\n",
    "    Maximum Likelihood detection for KxN mu-MIMO channel (uses Gaussian distribution) \n",
    "    \"\"\"\n",
    "    # complex to real and then reshape for broadcast\n",
    "    snr = 10**(snr_dB/20)\n",
    "    T = H_re.shape[0]\n",
    "    K = H_re.shape[-1] // 2\n",
    "    M = int(symbol_space.shape[0] ** (1/K))\n",
    "    x_shape = tuple([T, K, 1])\n",
    "    symbol_space_re = np.hstack((symbol_space.real, symbol_space.imag)) * np.ones(shape=(T, M**K, 2*K))\n",
    "    likelihood = phi(np.matmul(symbol_space_re, H_re.transpose(0, 2, 1)) * y_re.transpose(0, 2, 1) * np.sqrt(2 * snr))\n",
    "    log_likelihood = np.sum(np.log(likelihood), axis=2)\n",
    "\n",
    "    x_hat_idx = np.argmax(log_likelihood, axis=1)\n",
    "    x_hat_ML = np.take(symbol_space, x_hat_idx, axis=0)\n",
    "    x_hat_ML = x_hat_ML.reshape(x_shape)\n",
    "    return x_hat_ML \n",
    "\n",
    "def two_stage_detect(y, H, symbol_space, snr_dB):\n",
    "    snr = 10 ** (snr_dB/20)\n",
    "    T = H.shape[0]\n",
    "    K = H.shape[-1] // 2\n",
    "    x_hat_ML = []\n",
    "    for t in range(T):\n",
    "        symbol_space_re = np.hstack((symbol_space[1][t].real, symbol_space[1][t].imag))\n",
    "        likelihood = phi(np.matmul(symbol_space_re, H[t].T) * y[t].T * np.sqrt(2 * snr))\n",
    "        log_likelihood = np.sum(np.log(likelihood), axis=1)\n",
    "        x_hat_ML.append(symbol_space[1][t][np.argmax(log_likelihood)])\n",
    "    x_hat_ML = np.array(x_hat_ML)\n",
    "    return x_hat_ML\n",
    "\n",
    "\n",
    "def initialize(G_tilde, y_re):\n",
    "    num1 = np.matmul(G_tilde.transpose(0, 2, 1), np.ones_like(y_re))\n",
    "    denom1 = np.linalg.norm(num1, axis=1).reshape(-1, 1, 1)\n",
    "    x_init = (num1 / denom1) * np.sqrt(K)\n",
    "    return x_init\n",
    "\n",
    "def comp2re(H, x, z, r):\n",
    "    x_re = np.hstack((x.real, x.imag))\n",
    "    z_re = np.hstack((z.real, x.imag))\n",
    "    r_re = np.hstack((r.real, r.imag)) \n",
    "    H_re = np.block([\n",
    "        [H.real, -H.imag],\n",
    "        [H.imag, H.real]\n",
    "    ])\n",
    "    return H_re, x_re, z_re, r_re \n",
    "\n",
    "def initialize(G_tilde, y_re):\n",
    "    num1 = np.matmul(G_tilde.transpose(0, 2, 1), np.ones_like(y_re))\n",
    "    denom1 = np.linalg.norm(num1, axis=1).reshape(-1, 1, 1)\n",
    "    x_init = (num1 / denom1) * np.sqrt(K)\n",
    "    return x_init\n",
    "\n",
    "def sigmoid(t, c=1.702):\n",
    "    return (1 / (1 + np.exp(-1 * c * t)))\n",
    "\n",
    "def softplus(t):\n",
    "    return np.log(1 + np.exp(t))\n",
    "\n",
    "def robust_ml(y_re, H_re, symbol_space, snr_dB):\n",
    "    \"\"\"\n",
    "    robust Maximum Likelihood detection for KxN mu-MIMO channel (uses sigmoid instead of Normal Distribution) \n",
    "    \"\"\"\n",
    "    # complex to real and then reshape for broadcast\n",
    "    snr = 10**(snr_dB/20)   # convert dB scale to normal scale \n",
    "\n",
    "    # get informations from the channel matrix \n",
    "    T = H_re.shape[0]\n",
    "    K = H_re.shape[-1] // 2\n",
    "    M = int(symbol_space.shape[0] ** (1/K))\n",
    "    x_shape = tuple([T, K, 1])\n",
    "\n",
    "    # real representation of symbol_space \n",
    "    symbol_space_re = np.hstack((symbol_space.real, symbol_space.imag)) * np.ones(shape=(T, M**K, 2*K))\n",
    "\n",
    "    # Compute the Log-likelihood \n",
    "    likelihood = sigmoid(np.matmul(symbol_space_re, H_re.transpose(0, 2, 1)) * y_re.transpose(0, 2, 1) * np.sqrt(2 * snr))\n",
    "    log_likelihood = np.sum(np.log(likelihood), axis=2)\n",
    "\n",
    "    # pick symbol from the symbol space which maximizes the Likelihood \n",
    "    x_hat_idx = np.argmax(log_likelihood, axis=1)\n",
    "    x_hat_rML = np.take(symbol_space, x_hat_idx, axis=0)\n",
    "    x_hat_rML = x_hat_rML.reshape(x_shape)\n",
    "    return x_hat_rML \n",
    "\n",
    "def initialize(G_tilde, y_re):\n",
    "    num1 = np.matmul(G_tilde.transpose(0, 2, 1), np.ones_like(y_re))\n",
    "    denom1 = np.linalg.norm(num1, axis=1).reshape(-1, 1, 1)\n",
    "    x_init = (num1 / denom1) * np.sqrt(K)\n",
    "    return x_init\n",
    "\n",
    "\n",
    "def cost(G_tilde, x_init, snr):\n",
    "    snr = 10 ** (snr/20) \n",
    "    g = np.sqrt(2 * snr) * (G_tilde @ x_init) \n",
    "    g = softplus(g) \n",
    "    g = np.log(g) \n",
    "    g = np.sum(g, axis=1) \n",
    "    return g\n",
    "\n",
    "def compute_gradient(G_tilde, x_init, snr):\n",
    "    c = 1.702\n",
    "    snr = 10 ** (snr/20) \n",
    "    grad = np.sqrt(2 * snr) * np.matmul(G_tilde, x_init)\n",
    "    grad = sigmoid(-grad)\n",
    "    grad = np.matmul(G_tilde.transpose(0, 2, 1), grad)\n",
    "    grad = -1 * c * np.sqrt(2 * snr) * grad\n",
    "    return grad\n",
    "\n",
    "def GD(x_init, snr, G_tilde, epoch=100, lr=0.1):\n",
    "    global K\n",
    "    costs = []\n",
    "    for e in range(epoch):\n",
    "        # print(x_init[0].squeeze(), '-->', end=' ')\n",
    "        x_init -= lr * compute_gradient(G_tilde=G_tilde, x_init=x_init, snr=snr)\n",
    "        # print(x_init[0].squeeze())\n",
    "        if np.linalg.norm(x_init) >= np.sqrt(K):\n",
    "            x_init /= np.linalg.norm(x_init, axis=1).reshape(-1, 1, 1)\n",
    "            x_init *= np.sqrt(K)\n",
    "        costs.append(cost(G_tilde=G_tilde, x_init=x_init, snr=snr))\n",
    "        # if e % 1 == 0 : \n",
    "            # print(f\"epoch {e}: descent_r=\", np.around(compute_gradient(G_tilde=G_tilde, x_init=x_init, snr=snr).squeeze(), 2))\n",
    "            # print(f\"epoch {e}: descent_c=\", np.around(compute_gradient_c(G_tilde=G_tilde, x_init=x_init, snr=snr).squeeze(), 2))\n",
    "            # print(f\"epoch {e}: cost=\", np.around(cost(G_tilde=G_tilde, x_init=x_init, snr=snr).squeeze(), 2))\n",
    "            # print(f\"epoch {e}: cost=\", np.around(cost_c(G_tilde=G_tilde, x_init=x_init, snr=snr).squeeze(), 2))\n",
    "    return costs, x_init\n",
    "\n",
    "\n",
    "def nML_robust(H_re, y_re, epoch=10, lr=0.001):\n",
    "    \"\"\"\n",
    "    near maximum likelihood method (first stage)\n",
    "    \"\"\"\n",
    "    global snr\n",
    "    G_tilde = H_re * y_re \n",
    "    x_init = initialize(G_tilde=G_tilde, y_re=y_re)\n",
    "    _, x_tilde_re = GD(x_init=x_init, snr=snr, epoch=epoch, lr=lr, G_tilde=G_tilde)\n",
    "    x_tilde = x_tilde_re[:, :K, :] + 1j * x_tilde_re[:, K:, :]\n",
    "    return x_tilde "
   ]
  },
  {
   "cell_type": "code",
   "execution_count": 320,
   "metadata": {},
   "outputs": [
    {
     "name": "stdout",
     "output_type": "stream",
     "text": [
      "Trial #0: process bar ==> ========"
     ]
    },
    {
     "name": "stderr",
     "output_type": "stream",
     "text": [
      "/Users/lab2020/opt/anaconda3/envs/learning/lib/python3.7/site-packages/ipykernel_launcher.py:13: RuntimeWarning: divide by zero encountered in log\n",
      "  del sys.path[0]\n"
     ]
    },
    {
     "name": "stdout",
     "output_type": "stream",
     "text": [
      "===="
     ]
    },
    {
     "name": "stderr",
     "output_type": "stream",
     "text": [
      "/Users/lab2020/opt/anaconda3/envs/learning/lib/python3.7/site-packages/ipykernel_launcher.py:28: RuntimeWarning: divide by zero encountered in log\n"
     ]
    },
    {
     "name": "stdout",
     "output_type": "stream",
     "text": [
      "====\n",
      "Trial #1: process bar ==> ================\n",
      "Trial #2: process bar ==> ================\n",
      "Trial #3: process bar ==> ================"
     ]
    },
    {
     "ename": "KeyboardInterrupt",
     "evalue": "",
     "output_type": "error",
     "traceback": [
      "\u001b[0;31m---------------------------------------------------------------------------\u001b[0m",
      "\u001b[0;31mKeyboardInterrupt\u001b[0m                         Traceback (most recent call last)",
      "\u001b[0;32m/var/folders/gl/xxgrfgld7zgfc3wy9w6zq6km0000gn/T/ipykernel_65205/332965426.py\u001b[0m in \u001b[0;36m<module>\u001b[0;34m\u001b[0m\n\u001b[1;32m     38\u001b[0m         \u001b[0mG_tilde\u001b[0m \u001b[0;34m=\u001b[0m \u001b[0mH_re\u001b[0m \u001b[0;34m*\u001b[0m \u001b[0my_re\u001b[0m\u001b[0;34m\u001b[0m\u001b[0m\n\u001b[1;32m     39\u001b[0m         \u001b[0mx_init\u001b[0m \u001b[0;34m=\u001b[0m \u001b[0minitialize\u001b[0m\u001b[0;34m(\u001b[0m\u001b[0mG_tilde\u001b[0m\u001b[0;34m=\u001b[0m\u001b[0mG_tilde\u001b[0m\u001b[0;34m,\u001b[0m \u001b[0my_re\u001b[0m\u001b[0;34m=\u001b[0m\u001b[0my_re\u001b[0m\u001b[0;34m)\u001b[0m\u001b[0;34m\u001b[0m\u001b[0m\n\u001b[0;32m---> 40\u001b[0;31m         \u001b[0mx_tilde\u001b[0m \u001b[0;34m=\u001b[0m \u001b[0mnML_robust\u001b[0m\u001b[0;34m(\u001b[0m\u001b[0mH_re\u001b[0m\u001b[0;34m,\u001b[0m \u001b[0my_re\u001b[0m\u001b[0;34m,\u001b[0m \u001b[0mepoch\u001b[0m\u001b[0;34m=\u001b[0m\u001b[0;36m30\u001b[0m\u001b[0;34m,\u001b[0m \u001b[0mlr\u001b[0m\u001b[0;34m=\u001b[0m\u001b[0;36m0.003\u001b[0m\u001b[0;34m)\u001b[0m\u001b[0;34m\u001b[0m\u001b[0m\n\u001b[0m\u001b[1;32m     41\u001b[0m \u001b[0;34m\u001b[0m\u001b[0m\n\u001b[1;32m     42\u001b[0m         \u001b[0;31m# One-Stage method\u001b[0m\u001b[0;34m\u001b[0m\u001b[0;34m\u001b[0m\u001b[0m\n",
      "\u001b[0;32m/var/folders/gl/xxgrfgld7zgfc3wy9w6zq6km0000gn/T/ipykernel_65205/209358196.py\u001b[0m in \u001b[0;36mnML_robust\u001b[0;34m(H_re, y_re, epoch, lr)\u001b[0m\n\u001b[1;32m    136\u001b[0m     \u001b[0mG_tilde\u001b[0m \u001b[0;34m=\u001b[0m \u001b[0mH_re\u001b[0m \u001b[0;34m*\u001b[0m \u001b[0my_re\u001b[0m\u001b[0;34m\u001b[0m\u001b[0m\n\u001b[1;32m    137\u001b[0m     \u001b[0mx_init\u001b[0m \u001b[0;34m=\u001b[0m \u001b[0minitialize\u001b[0m\u001b[0;34m(\u001b[0m\u001b[0mG_tilde\u001b[0m\u001b[0;34m=\u001b[0m\u001b[0mG_tilde\u001b[0m\u001b[0;34m,\u001b[0m \u001b[0my_re\u001b[0m\u001b[0;34m=\u001b[0m\u001b[0my_re\u001b[0m\u001b[0;34m)\u001b[0m\u001b[0;34m\u001b[0m\u001b[0m\n\u001b[0;32m--> 138\u001b[0;31m     \u001b[0m_\u001b[0m\u001b[0;34m,\u001b[0m \u001b[0mx_tilde_re\u001b[0m \u001b[0;34m=\u001b[0m \u001b[0mGD\u001b[0m\u001b[0;34m(\u001b[0m\u001b[0mx_init\u001b[0m\u001b[0;34m=\u001b[0m\u001b[0mx_init\u001b[0m\u001b[0;34m,\u001b[0m \u001b[0msnr\u001b[0m\u001b[0;34m=\u001b[0m\u001b[0msnr\u001b[0m\u001b[0;34m,\u001b[0m \u001b[0mepoch\u001b[0m\u001b[0;34m=\u001b[0m\u001b[0mepoch\u001b[0m\u001b[0;34m,\u001b[0m \u001b[0mlr\u001b[0m\u001b[0;34m=\u001b[0m\u001b[0mlr\u001b[0m\u001b[0;34m,\u001b[0m \u001b[0mG_tilde\u001b[0m\u001b[0;34m=\u001b[0m\u001b[0mG_tilde\u001b[0m\u001b[0;34m)\u001b[0m\u001b[0;34m\u001b[0m\u001b[0m\n\u001b[0m\u001b[1;32m    139\u001b[0m     \u001b[0mx_tilde\u001b[0m \u001b[0;34m=\u001b[0m \u001b[0mx_tilde_re\u001b[0m\u001b[0;34m[\u001b[0m\u001b[0;34m:\u001b[0m\u001b[0;34m,\u001b[0m \u001b[0;34m:\u001b[0m\u001b[0mK\u001b[0m\u001b[0;34m,\u001b[0m \u001b[0;34m:\u001b[0m\u001b[0;34m]\u001b[0m \u001b[0;34m+\u001b[0m \u001b[0;36m1j\u001b[0m \u001b[0;34m*\u001b[0m \u001b[0mx_tilde_re\u001b[0m\u001b[0;34m[\u001b[0m\u001b[0;34m:\u001b[0m\u001b[0;34m,\u001b[0m \u001b[0mK\u001b[0m\u001b[0;34m:\u001b[0m\u001b[0;34m,\u001b[0m \u001b[0;34m:\u001b[0m\u001b[0;34m]\u001b[0m\u001b[0;34m\u001b[0m\u001b[0m\n\u001b[1;32m    140\u001b[0m     \u001b[0;32mreturn\u001b[0m \u001b[0mx_tilde\u001b[0m\u001b[0;34m\u001b[0m\u001b[0m\n",
      "\u001b[0;32m/var/folders/gl/xxgrfgld7zgfc3wy9w6zq6km0000gn/T/ipykernel_65205/209358196.py\u001b[0m in \u001b[0;36mGD\u001b[0;34m(x_init, snr, G_tilde, epoch, lr)\u001b[0m\n\u001b[1;32m    120\u001b[0m             \u001b[0mx_init\u001b[0m \u001b[0;34m/=\u001b[0m \u001b[0mnp\u001b[0m\u001b[0;34m.\u001b[0m\u001b[0mlinalg\u001b[0m\u001b[0;34m.\u001b[0m\u001b[0mnorm\u001b[0m\u001b[0;34m(\u001b[0m\u001b[0mx_init\u001b[0m\u001b[0;34m,\u001b[0m \u001b[0maxis\u001b[0m\u001b[0;34m=\u001b[0m\u001b[0;36m1\u001b[0m\u001b[0;34m)\u001b[0m\u001b[0;34m.\u001b[0m\u001b[0mreshape\u001b[0m\u001b[0;34m(\u001b[0m\u001b[0;34m-\u001b[0m\u001b[0;36m1\u001b[0m\u001b[0;34m,\u001b[0m \u001b[0;36m1\u001b[0m\u001b[0;34m,\u001b[0m \u001b[0;36m1\u001b[0m\u001b[0;34m)\u001b[0m\u001b[0;34m\u001b[0m\u001b[0m\n\u001b[1;32m    121\u001b[0m             \u001b[0mx_init\u001b[0m \u001b[0;34m*=\u001b[0m \u001b[0mnp\u001b[0m\u001b[0;34m.\u001b[0m\u001b[0msqrt\u001b[0m\u001b[0;34m(\u001b[0m\u001b[0mK\u001b[0m\u001b[0;34m)\u001b[0m\u001b[0;34m\u001b[0m\u001b[0m\n\u001b[0;32m--> 122\u001b[0;31m         \u001b[0mcosts\u001b[0m\u001b[0;34m.\u001b[0m\u001b[0mappend\u001b[0m\u001b[0;34m(\u001b[0m\u001b[0mcost\u001b[0m\u001b[0;34m(\u001b[0m\u001b[0mG_tilde\u001b[0m\u001b[0;34m=\u001b[0m\u001b[0mG_tilde\u001b[0m\u001b[0;34m,\u001b[0m \u001b[0mx_init\u001b[0m\u001b[0;34m=\u001b[0m\u001b[0mx_init\u001b[0m\u001b[0;34m,\u001b[0m \u001b[0msnr\u001b[0m\u001b[0;34m=\u001b[0m\u001b[0msnr\u001b[0m\u001b[0;34m)\u001b[0m\u001b[0;34m)\u001b[0m\u001b[0;34m\u001b[0m\u001b[0m\n\u001b[0m\u001b[1;32m    123\u001b[0m         \u001b[0;31m# if e % 1 == 0 :\u001b[0m\u001b[0;34m\u001b[0m\u001b[0;34m\u001b[0m\u001b[0m\n\u001b[1;32m    124\u001b[0m             \u001b[0;31m# print(f\"epoch {e}: descent_r=\", np.around(compute_gradient(G_tilde=G_tilde, x_init=x_init, snr=snr).squeeze(), 2))\u001b[0m\u001b[0;34m\u001b[0m\u001b[0;34m\u001b[0m\u001b[0m\n",
      "\u001b[0;32m/var/folders/gl/xxgrfgld7zgfc3wy9w6zq6km0000gn/T/ipykernel_65205/209358196.py\u001b[0m in \u001b[0;36mcost\u001b[0;34m(G_tilde, x_init, snr)\u001b[0m\n\u001b[1;32m     95\u001b[0m \u001b[0;32mdef\u001b[0m \u001b[0mcost\u001b[0m\u001b[0;34m(\u001b[0m\u001b[0mG_tilde\u001b[0m\u001b[0;34m,\u001b[0m \u001b[0mx_init\u001b[0m\u001b[0;34m,\u001b[0m \u001b[0msnr\u001b[0m\u001b[0;34m)\u001b[0m\u001b[0;34m:\u001b[0m\u001b[0;34m\u001b[0m\u001b[0m\n\u001b[1;32m     96\u001b[0m     \u001b[0msnr\u001b[0m \u001b[0;34m=\u001b[0m \u001b[0;36m10\u001b[0m \u001b[0;34m**\u001b[0m \u001b[0;34m(\u001b[0m\u001b[0msnr\u001b[0m\u001b[0;34m/\u001b[0m\u001b[0;36m20\u001b[0m\u001b[0;34m)\u001b[0m\u001b[0;34m\u001b[0m\u001b[0m\n\u001b[0;32m---> 97\u001b[0;31m     \u001b[0mg\u001b[0m \u001b[0;34m=\u001b[0m \u001b[0mnp\u001b[0m\u001b[0;34m.\u001b[0m\u001b[0msqrt\u001b[0m\u001b[0;34m(\u001b[0m\u001b[0;36m2\u001b[0m \u001b[0;34m*\u001b[0m \u001b[0msnr\u001b[0m\u001b[0;34m)\u001b[0m \u001b[0;34m*\u001b[0m \u001b[0;34m(\u001b[0m\u001b[0mG_tilde\u001b[0m \u001b[0;34m@\u001b[0m \u001b[0mx_init\u001b[0m\u001b[0;34m)\u001b[0m\u001b[0;34m\u001b[0m\u001b[0m\n\u001b[0m\u001b[1;32m     98\u001b[0m     \u001b[0mg\u001b[0m \u001b[0;34m=\u001b[0m \u001b[0msoftplus\u001b[0m\u001b[0;34m(\u001b[0m\u001b[0mg\u001b[0m\u001b[0;34m)\u001b[0m\u001b[0;34m\u001b[0m\u001b[0m\n\u001b[1;32m     99\u001b[0m     \u001b[0mg\u001b[0m \u001b[0;34m=\u001b[0m \u001b[0mnp\u001b[0m\u001b[0;34m.\u001b[0m\u001b[0mlog\u001b[0m\u001b[0;34m(\u001b[0m\u001b[0mg\u001b[0m\u001b[0;34m)\u001b[0m\u001b[0;34m\u001b[0m\u001b[0m\n",
      "\u001b[0;31mKeyboardInterrupt\u001b[0m: "
     ]
    }
   ],
   "source": [
    "trials = 200\n",
    "K = 2; N = 16; T = 5000; M = 4\n",
    "\n",
    "snr_min = -10 \n",
    "snr_max = 25\n",
    "snr_lst = np.arange(snr_min, snr_max+1, 5)\n",
    "\n",
    "constellation_points = np.array([-1-1j, -1+1j, 1-1j, 1+1j])\n",
    "constellation_points /= np.sqrt(2) \n",
    "\n",
    "symbol_space = make_symbol_space(K, M, constellation_points) \n",
    "symbol_space = make_symbol_space(M=M, K=K, constellation_points=constellation_points)\n",
    "\n",
    "sers_avg = np.zeros(shape=(len(snr_lst), 3)) \n",
    "x = np.random.randint(0, M, size=K * T).reshape(T, K, 1) \n",
    "x = np.take(constellation_points, x)\n",
    "\n",
    "\n",
    "\n",
    "for t in range(trials):\n",
    "    print(f\"Trial #{t}: process bar ==>\", end=' ')\n",
    "    sers = []\n",
    "    for snr in snr_lst:\n",
    "        print(\"==\", end='')\n",
    "\n",
    "        # Channel \n",
    "        H = (1 / np.sqrt(2)) * (np.random.randn(T, N, K) + 1j * np.random.randn(T, N, K))\n",
    "        z = (1 / np.sqrt(2)) * (np.random.randn(T, N, 1) + 1j * np.random.randn(T, N, 1))\n",
    "\n",
    "        r = np.matmul(H, x) + (10**(-snr/20)) * z  \n",
    "\n",
    "        # 1-bit ADC \n",
    "        y = np.sign(r.real) + 1j * np.sign(r.imag) \n",
    "\n",
    "        H_re, x_re, z_re, y_re = comp2re(H, x, z, y)\n",
    "\n",
    "        # near ML estimation(functional)\n",
    "        G_tilde = H_re * y_re \n",
    "        x_init = initialize(G_tilde=G_tilde, y_re=y_re) \n",
    "        x_tilde = nML_robust(H_re, y_re, epoch=30, lr=0.003)\n",
    "\n",
    "        # One-Stage method \n",
    "        x_det_first_stage = symbol_by_symbol(x_tilde=x_tilde, constellation_points=constellation_points)\n",
    "\n",
    "        # Two-Stage method\n",
    "        sym_space = two_nML(x_tilde, constellation_points)\n",
    "        x_det_second_stage = two_stage_detect(y_re, H_re, symbol_space=sym_space, snr_dB=snr)\n",
    "\n",
    "        x_det_ml = ml(y_re, H_re, symbol_space=symbol_space, snr_dB=snr) \n",
    "        \n",
    "        ser_one_stage = 1 - (np.sum(np.isclose(x_det_first_stage.reshape(T, K, 1), x)) / (T*K))\n",
    "        ser_two_stage = 1 - (np.sum(np.isclose(x_det_second_stage.reshape(T, K, 1), x)) / (T*K)) \n",
    "        ser_ml = 1 - (np.sum(np.isclose(x_det_ml.reshape(T, K, 1), x)) / (T*K))\n",
    "        sers.append([ser_one_stage, ser_two_stage, ser_ml])\n",
    "    print()\n",
    "        \n",
    "    sers = np.array(sers)\n",
    "    sers_avg += sers     \n",
    "\n",
    "sers_avg /= trials\n",
    "print(sers_avg)\n",
    "\n"
   ]
  },
  {
   "cell_type": "code",
   "execution_count": 317,
   "metadata": {},
   "outputs": [],
   "source": [
    "ser_avg_temp = sers_avg\n",
    "\n",
    "sers_avg = (ser_avg_temp * 100) + (sers_avg * 10) \n",
    "sers_avg /= 110 "
   ]
  },
  {
   "cell_type": "code",
   "execution_count": 318,
   "metadata": {},
   "outputs": [
    {
     "data": {
      "image/png": "[encoded data removed]",
      "text/plain": [
       "<Figure size 576x432 with 1 Axes>"
      ]
     },
     "metadata": {
      "needs_background": "light"
     },
     "output_type": "display_data"
    }
   ],
   "source": [
    "plt.figure(figsize=(8, 6)) \n",
    "plt.semilogy(snr_lst, sers_avg[:, 0], '-bo', label='one-stage robust ML', fillstyle='none', markersize=10) \n",
    "plt.semilogy(snr_lst, sers_avg[:, 1], '-ro', label='two-stage robust ML', fillstyle='none', markersize=10)\n",
    "plt.semilogy(snr_lst, sers_avg[:, 2], '-ko', label='ML', fillstyle='none', markersize=10)\n",
    "plt.legend() \n",
    "plt.xlabel(\"SNR (dB)\", fontsize=15) \n",
    "plt.ylabel(\"SER\", fontsize=15) \n",
    "plt.title(\"Symbol Error Rate\", fontsize=15) \n",
    "plt.grid() \n",
    "plt.show() "
   ]
  },
  {
   "cell_type": "code",
   "execution_count": 299,
   "metadata": {},
   "outputs": [
    {
     "data": {
      "image/png": "[encoded data removed]",
      "text/plain": [
       "<Figure size 576x432 with 1 Axes>"
      ]
     },
     "metadata": {
      "needs_background": "light"
     },
     "output_type": "display_data"
    }
   ],
   "source": [
    "plt.figure(figsize=(8, 6)) \n",
    "plt.semilogy(snr_lst, sers_avg_two_stage, '-ro', label='two-stage robust ML', fillstyle='none')\n",
    "plt.semilogy(snr_lst, sers_avg, '-bo', label='one-stage robust ML', fillstyle='none') \n",
    "plt.legend() \n",
    "plt.xlabel(\"SNR (dB)\", fontsize=15) \n",
    "plt.ylabel(\"SER\", fontsize=15) \n",
    "plt.title(\"Symbol Error Rate\", fontsize=15) \n",
    "plt.grid() \n",
    "plt.show() "
   ]
  },
  {
   "cell_type": "code",
   "execution_count": null,
   "metadata": {},
   "outputs": [
    {
     "ename": "NameError",
     "evalue": "name 'G' is not defined",
     "output_type": "error",
     "traceback": [
      "\u001b[0;31m---------------------------------------------------------------------------\u001b[0m\n",
      "\u001b[0;31mNameError\u001b[0m                                 Traceback (most recent call last)\n",
      "\u001b[0;32m/var/folders/gl/xxgrfgld7zgfc3wy9w6zq6km0000gn/T/ipykernel_62973/2088102739.py\u001b[0m in \u001b[0;36m<module>\u001b[0;34m\u001b[0m\n",
      "\u001b[0;32m----> 1\u001b[0;31m \u001b[0mG\u001b[0m \u001b[0;34m==\u001b[0m \u001b[0mnp\u001b[0m\u001b[0;34m.\u001b[0m\u001b[0mdiag\u001b[0m\u001b[0;34m(\u001b[0m\u001b[0my_re\u001b[0m\u001b[0;34m[\u001b[0m\u001b[0;36m0\u001b[0m\u001b[0;34m]\u001b[0m\u001b[0;34m.\u001b[0m\u001b[0msqueeze\u001b[0m\u001b[0;34m(\u001b[0m\u001b[0;34m)\u001b[0m\u001b[0;34m)\u001b[0m \u001b[0;34m@\u001b[0m \u001b[0mH_re\u001b[0m\u001b[0;34m[\u001b[0m\u001b[0;36m0\u001b[0m\u001b[0;34m]\u001b[0m\u001b[0;34m\u001b[0m\u001b[0m\n",
      "\u001b[0m\n",
      "\u001b[0;31mNameError\u001b[0m: name 'G' is not defined"
     ]
    }
   ],
   "source": [
    "G == np.diag(y_re[0].squeeze()) @ H_re[0] "
   ]
  },
  {
   "cell_type": "markdown",
   "metadata": {},
   "source": [
    "# Making nearest ML search for T trials "
   ]
  },
  {
   "cell_type": "code",
   "execution_count": 222,
   "metadata": {},
   "outputs": [
    {
     "data": {
      "text/plain": [
       "([[(2, 3), (3, 3)],\n",
       "  [(3, 2)],\n",
       "  [(3, 0)],\n",
       "  [(1, 2)],\n",
       "  [(1, 3)],\n",
       "  [(0, 0)],\n",
       "  [(3, 2)],\n",
       "  [(2, 0), (2, 2)],\n",
       "  [(0, 3)],\n",
       "  [(1, 2)]],\n",
       " [array([[0.70710678-0.70710678j, 0.70710678+0.70710678j],\n",
       "         [0.70710678+0.70710678j, 0.70710678+0.70710678j]]),\n",
       "  array([[0.70710678+0.70710678j, 0.70710678-0.70710678j]]),\n",
       "  array([[ 0.70710678+0.70710678j, -0.70710678-0.70710678j]]),\n",
       "  array([[-0.70710678+0.70710678j,  0.70710678-0.70710678j]]),\n",
       "  array([[-0.70710678+0.70710678j,  0.70710678+0.70710678j]]),\n",
       "  array([[-0.70710678-0.70710678j, -0.70710678-0.70710678j]]),\n",
       "  array([[0.70710678+0.70710678j, 0.70710678-0.70710678j]]),\n",
       "  array([[ 0.70710678-0.70710678j, -0.70710678-0.70710678j],\n",
       "         [ 0.70710678-0.70710678j,  0.70710678-0.70710678j]]),\n",
       "  array([[-0.70710678-0.70710678j,  0.70710678+0.70710678j]]),\n",
       "  array([[-0.70710678+0.70710678j,  0.70710678-0.70710678j]])])"
      ]
     },
     "execution_count": 222,
     "metadata": {},
     "output_type": "execute_result"
    }
   ],
   "source": [
    "from itertools import product\n",
    "\n",
    "\n",
    "def two_nML(x_tilde, constellation_points, c=2):\n",
    "    T = len(x_tilde)\n",
    "    K = len(x_tilde[0])\n",
    "    x_est = x_tilde \n",
    "    x_det = symbol_by_symbol(x_est, constellation_points)\n",
    "    x_ex = constellation_points.squeeze() \n",
    "\n",
    "    num = np.abs(x_est - x_ex) \n",
    "    den = np.abs(x_est - x_det)\n",
    "    cond = (num / den) < c \n",
    "\n",
    "    setsize_t = np.sum(cond, axis=2) \n",
    "    nn_t = [[[] for k in range(K)] for t in range(T)]\n",
    "    for cond in np.argwhere(cond):\n",
    "        nn_t[cond[0]][cond[1]].append(cond[2])\n",
    "\n",
    "    new_symspace = [[] for _ in range(T)]\n",
    "    new_symspace = []\n",
    "    new_symspace_idx = []\n",
    "    for e, trial in enumerate(nn_t):\n",
    "        sym_space = [] \n",
    "        for element in product(*trial):\n",
    "            sym_space.append(element)\n",
    "        new_symspace.append(np.take(constellation_points, sym_space))\n",
    "        new_symspace_idx.append(sym_space)\n",
    "    return new_symspace_idx, new_symspace \n",
    "\n",
    "\n",
    "\n",
    "new_symspace_t = two_nML(x_tilde, constellation_points, c=2)\n",
    "\n",
    "new_symspace_t[:10]\n",
    "# for m, k in np.argwhere(condition):\n",
    "#     nn[k].append(m)\n",
    "\n",
    "\n",
    "# new_symbol_space = []\n",
    "# new_symspace_t = [[] for _ in range(T)]\n",
    "# for n in nn: \n",
    "#     new_symbol_space.append(list(np.take(constellation_points, n)))\n",
    "\n",
    "# for e, trial in enumerate(nn_t): \n",
    "#     symbol_space_trial = []\n",
    "#     for n in trial:\n",
    "#         new_symspace_t[e].append(np.take(constellation_points, n))\n",
    "\n",
    "# sym_space_per_trial = [] \n",
    "# for e, trial in enumerate(nn_t):\n",
    "#     sym_space = []\n",
    "#     for element in product(*trial):\n",
    "#         sym_space.append((element))\n",
    "#     sym_space_per_trial.append(np.array(sym_space))\n",
    "\n",
    "\n",
    "\n",
    "# print(new_symbol_space)"
   ]
  },
  {
   "cell_type": "code",
   "execution_count": 139,
   "metadata": {},
   "outputs": [
    {
     "data": {
      "text/plain": [
       "array([[-0.70710678-0.70710678j, -0.70710678-0.70710678j],\n",
       "       [-0.70710678-0.70710678j, -0.70710678+0.70710678j],\n",
       "       [-0.70710678-0.70710678j,  0.70710678-0.70710678j],\n",
       "       [-0.70710678-0.70710678j,  0.70710678+0.70710678j],\n",
       "       [-0.70710678+0.70710678j, -0.70710678-0.70710678j],\n",
       "       [-0.70710678+0.70710678j, -0.70710678+0.70710678j],\n",
       "       [-0.70710678+0.70710678j,  0.70710678-0.70710678j],\n",
       "       [-0.70710678+0.70710678j,  0.70710678+0.70710678j],\n",
       "       [ 0.70710678-0.70710678j, -0.70710678-0.70710678j],\n",
       "       [ 0.70710678-0.70710678j, -0.70710678+0.70710678j],\n",
       "       [ 0.70710678-0.70710678j,  0.70710678-0.70710678j],\n",
       "       [ 0.70710678-0.70710678j,  0.70710678+0.70710678j],\n",
       "       [ 0.70710678+0.70710678j, -0.70710678-0.70710678j],\n",
       "       [ 0.70710678+0.70710678j, -0.70710678+0.70710678j],\n",
       "       [ 0.70710678+0.70710678j,  0.70710678-0.70710678j],\n",
       "       [ 0.70710678+0.70710678j,  0.70710678+0.70710678j]])"
      ]
     },
     "execution_count": 139,
     "metadata": {},
     "output_type": "execute_result"
    }
   ],
   "source": [
    "make_symbol_space(M=4, K=2, constellation_points=constellation_points)\n"
   ]
  }
 ],
 "metadata": {
  "kernelspec": {
   "display_name": "Python 3.7.0 ('learning')",
   "language": "python",
   "name": "python3"
  },
  "language_info": {
   "codemirror_mode": {
    "name": "ipython",
    "version": 3
   },
   "file_extension": ".py",
   "mimetype": "text/x-python",
   "name": "python",
   "nbconvert_exporter": "python",
   "pygments_lexer": "ipython3",
   "version": "3.7.0"
  },
  "orig_nbformat": 4,
  "vscode": {
   "interpreter": {
    "hash": "7ab57b40917d2668bbbeeb6dcb0f927fae8d33b10a6538581e5b2008fa03fdfe"
   }
  }
 },
 "nbformat": 4,
 "nbformat_minor": 2
}
