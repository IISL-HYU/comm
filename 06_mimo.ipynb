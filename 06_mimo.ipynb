{
 "cells": [
  {
   "cell_type": "code",
   "execution_count": 1,
   "metadata": {},
   "outputs": [],
   "source": [
    "# Import packages \n",
    "import numpy as np\n",
    "import matplotlib.pyplot as plt "
   ]
  },
  {
   "cell_type": "code",
   "execution_count": 5,
   "metadata": {},
   "outputs": [],
   "source": [
    "# basic mu-MIMO Transmitter and Receiver \n",
    "K = 2   # number of users \n",
    "N = 4   # number of receiver antennas \n",
    "M = 4   # Degree of constellation \n",
    "\n",
    "def make_symbol_space(K, M, cp):\n",
    "    \"\"\"\n",
    "    constructs symbol space with Cardinality : M^K \n",
    "    can be used for ML detection \n",
    "    \"\"\"\n",
    "    index_space = np.indices([M for _ in range(K)]).reshape(K, -1).T \n",
    "    symbol_space = np.take(cp, index_space)\n",
    "    return symbol_space \n",
    "\n",
    "# simple constellation points (normalized)\n",
    "constellation_points = np.array([-1-1j, -1+1j, 1-1j, 1+1j])\n",
    "constellation_points /= np.sqrt(2) \n",
    "\n",
    "# for Maximum-Likelihood detection\n",
    "symbol_space = make_symbol_space(K, M, cp=constellation_points) \n",
    "\n",
    "# symbols for 1-timeslot \n",
    "x = np.random.randint(0, M, size=K).reshape(-1, 1) \n",
    "x = np.take(constellation_points, x)\n",
    "\n",
    "# Rayleigh Fading Channel \n",
    "H = np.random.randn(N, K) + 1j * np.random.randn(N, K) \n",
    "z = np.random.randn(N, 1) + 1j * np.random.randn(N, 1) \n",
    "\n",
    "# Received Signal \n",
    "r = np.matmul(H, x) + z "
   ]
  },
  {
   "cell_type": "code",
   "execution_count": 6,
   "metadata": {},
   "outputs": [
    {
     "data": {
      "text/plain": [
       "array([[0.70710678+0.70710678j],\n",
       "       [0.70710678-0.70710678j]])"
      ]
     },
     "execution_count": 6,
     "metadata": {},
     "output_type": "execute_result"
    }
   ],
   "source": [
    "x"
   ]
  },
  {
   "cell_type": "code",
   "execution_count": null,
   "metadata": {},
   "outputs": [],
   "source": []
  }
 ],
 "metadata": {
  "kernelspec": {
   "display_name": "Python 3.8.12",
   "language": "python",
   "name": "python3"
  },
  "language_info": {
   "codemirror_mode": {
    "name": "ipython",
    "version": 3
   },
   "file_extension": ".py",
   "mimetype": "text/x-python",
   "name": "python",
   "nbconvert_exporter": "python",
   "pygments_lexer": "ipython3",
   "version": "3.8.12"
  },
  "orig_nbformat": 4,
  "vscode": {
   "interpreter": {
    "hash": "f14269bf3ad7aa2ae115b9ca9481e15e8eacecd83dc3347ac1efd388ad78cc6e"
   }
  }
 },
 "nbformat": 4,
 "nbformat_minor": 2
}
