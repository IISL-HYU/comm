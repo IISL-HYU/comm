{
 "cells": [
  {
   "cell_type": "code",
   "execution_count": 5,
   "metadata": {},
   "outputs": [],
   "source": [
    "import numpy as np \n",
    "import matplotlib.pyplot as plt \n",
    "from core.core import qfunc\n",
    "import random\n",
    "from modulation.qam import QAM "
   ]
  },
  {
   "cell_type": "code",
   "execution_count": 6,
   "metadata": {},
   "outputs": [],
   "source": [
    "# initial modulator and demodulator \n",
    "modem = QAM(M=16)"
   ]
  },
  {
   "cell_type": "code",
   "execution_count": 7,
   "metadata": {},
   "outputs": [],
   "source": [
    "# make random samples \n",
    "N = 12000\n",
    "bits = np.int32(np.random.rand(N) > 0.5)\n",
    "\n",
    "# Modulate bits \n",
    "symbols = modem.modulate(bits)  \n",
    "\n",
    "# Series to parallel \n",
    "\n",
    "\n",
    "\n"
   ]
  },
  {
   "cell_type": "code",
   "execution_count": 10,
   "metadata": {},
   "outputs": [
    {
     "data": {
      "text/plain": [
       "3000"
      ]
     },
     "execution_count": 10,
     "metadata": {},
     "output_type": "execute_result"
    }
   ],
   "source": [
    "def series_to_parallel(symbol_series: np.ndarray , num_tx_antennas: int):\n",
    "    "
   ]
  },
  {
   "cell_type": "code",
   "execution_count": 27,
   "metadata": {},
   "outputs": [],
   "source": [
    "txnum = 10\n",
    "rxnum = 3 \n",
    "snr_db = 10 \n",
    "snr = 10 ** (snr_db/20)\n",
    "symbol_parallel = symbols.reshape(-1, txnum, 1)\n",
    "\n",
    "H = 1/np.sqrt(2) * (np.random.randn(rxnum, txnum) + 1j * np.random.randn(rxnum, txnum))\n",
    "\n",
    "z = 1/np.sqrt(2) * (1 / snr) * (np.random.randn(rxnum, 1) + 1j * np.random.randn(rxnum, 1))\n",
    "\n",
    "y = np.matmul(H, symbol_parallel[0]) + z \n"
   ]
  },
  {
   "cell_type": "code",
   "execution_count": 28,
   "metadata": {},
   "outputs": [
    {
     "data": {
      "text/plain": [
       "array([[ 0.15721383+0.2472749j ],\n",
       "       [-4.01408378-1.08546704j],\n",
       "       [ 4.38069747-0.62112355j]])"
      ]
     },
     "execution_count": 28,
     "metadata": {},
     "output_type": "execute_result"
    }
   ],
   "source": [
    "y"
   ]
  },
  {
   "cell_type": "code",
   "execution_count": null,
   "metadata": {},
   "outputs": [],
   "source": [
    "plt.plot(np.real(y / modem.avg_power), np.imag(y / modem.avg_power), 'go', alpha=0.4, zorder=2)\n",
    "plt.show()"
   ]
  }
 ],
 "metadata": {
  "kernelspec": {
   "display_name": "Python 3.8.12",
   "language": "python",
   "name": "python3"
  },
  "language_info": {
   "codemirror_mode": {
    "name": "ipython",
    "version": 3
   },
   "file_extension": ".py",
   "mimetype": "text/x-python",
   "name": "python",
   "nbconvert_exporter": "python",
   "pygments_lexer": "ipython3",
   "version": "3.8.12"
  },
  "orig_nbformat": 4,
  "vscode": {
   "interpreter": {
    "hash": "f14269bf3ad7aa2ae115b9ca9481e15e8eacecd83dc3347ac1efd388ad78cc6e"
   }
  }
 },
 "nbformat": 4,
 "nbformat_minor": 2
}
